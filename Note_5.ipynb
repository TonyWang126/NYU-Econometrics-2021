{
  "nbformat": 4,
  "nbformat_minor": 0,
  "metadata": {
    "colab": {
      "name": "Note 5",
      "provenance": [],
      "include_colab_link": true
    },
    "kernelspec": {
      "name": "python3",
      "display_name": "Python 3"
    },
    "language_info": {
      "name": "python"
    }
  },
  "cells": [
    {
      "cell_type": "markdown",
      "metadata": {
        "id": "view-in-github",
        "colab_type": "text"
      },
      "source": [
        "<a href=\"https://colab.research.google.com/github/TonyWang126/NYU-Econometrics-2021/blob/main/Note_5.ipynb\" target=\"_parent\"><img src=\"https://colab.research.google.com/assets/colab-badge.svg\" alt=\"Open In Colab\"/></a>"
      ]
    },
    {
      "cell_type": "markdown",
      "metadata": {
        "id": "f0G9yuVMVKsy"
      },
      "source": [
        "# **Briefings**\n",
        "\n",
        "1. Two packages:\n",
        "\n",
        "\n",
        "*   https://www.statsmodels.org/dev/generated/statsmodels.sandbox.regression.gmm.IV2SLS.html\n",
        "*   https://bashtage.github.io/linearmodels/doc/iv/examples/advanced-examples.html\n",
        "\n",
        "2. Four variables:\n",
        "\n",
        "Dependent Variables: Y\n",
        "Endogenous Variable: X\n",
        "Control variables: W\n",
        "instruments: Z\n",
        "\n",
        "3. Two regressions\n",
        "\n",
        "\n",
        "*   First: X~Z\n",
        "*   Second: Y~(estimated_X+W)\n",
        "\n",
        "\n",
        "\n"
      ]
    },
    {
      "cell_type": "markdown",
      "metadata": {
        "id": "IUvVJLif18yB"
      },
      "source": [
        ""
      ]
    },
    {
      "cell_type": "markdown",
      "metadata": {
        "id": "yN-Z8unoodnr"
      },
      "source": [
        "background readings: https://cryptobriefing.com/earning-20-apy-with-yield-app/"
      ]
    },
    {
      "cell_type": "markdown",
      "metadata": {
        "id": "CCgjIvhKWQgb"
      },
      "source": [
        "# Data Preparations"
      ]
    },
    {
      "cell_type": "markdown",
      "metadata": {
        "id": "FjsgYGqusAE5"
      },
      "source": [
        "### Date Sources \n",
        "https://docs.defipulse.com/overview-of-api-endpoints\n",
        "\n",
        "https://data-beta.defipulse.com/dashboard/egs\n",
        "\n",
        "https://docs.defipulse.com/api-docs-by-provider/defi-pulse-data/total-value-locked/total-value-locked"
      ]
    },
    {
      "cell_type": "markdown",
      "metadata": {
        "id": "-ypMOn9isF69"
      },
      "source": [
        "### Import the Historical Data of Total Value Locked"
      ]
    },
    {
      "cell_type": "code",
      "metadata": {
        "colab": {
          "base_uri": "https://localhost:8080/",
          "height": 204
        },
        "id": "NvA4Ft3xU5yg",
        "outputId": "23cd90e5-7dec-45f2-9045-cdcd405c0d0f"
      },
      "source": [
        "import pandas as pd\n",
        "import requests\n",
        "import json \n",
        "from datetime import datetime\n",
        "TVL= requests.get('https://data-api.defipulse.com/api/v1/defipulse/api/GetHistory?resolution=history&project=all&api-key=05f8e579a2bec58c6fb86b5ad1d84b76b0267a190307cdf6f194960c4121')\n",
        "TVL= TVL.json()\n",
        "TVL=pd.DataFrame(TVL)\n",
        "TVL.head()"
      ],
      "execution_count": 43,
      "outputs": [
        {
          "output_type": "execute_result",
          "data": {
            "text/html": [
              "<div>\n",
              "<style scoped>\n",
              "    .dataframe tbody tr th:only-of-type {\n",
              "        vertical-align: middle;\n",
              "    }\n",
              "\n",
              "    .dataframe tbody tr th {\n",
              "        vertical-align: top;\n",
              "    }\n",
              "\n",
              "    .dataframe thead th {\n",
              "        text-align: right;\n",
              "    }\n",
              "</style>\n",
              "<table border=\"1\" class=\"dataframe\">\n",
              "  <thead>\n",
              "    <tr style=\"text-align: right;\">\n",
              "      <th></th>\n",
              "      <th>timestamp</th>\n",
              "      <th>tvlUSD</th>\n",
              "      <th>tvlETH</th>\n",
              "      <th>BTC</th>\n",
              "      <th>ETH</th>\n",
              "      <th>DAI</th>\n",
              "    </tr>\n",
              "  </thead>\n",
              "  <tbody>\n",
              "    <tr>\n",
              "      <th>0</th>\n",
              "      <td>1624179600</td>\n",
              "      <td>55152945101</td>\n",
              "      <td>2.492822e+07</td>\n",
              "      <td>171912.219296</td>\n",
              "      <td>8.635372e+06</td>\n",
              "      <td>2.833782e+09</td>\n",
              "    </tr>\n",
              "    <tr>\n",
              "      <th>1</th>\n",
              "      <td>1624147200</td>\n",
              "      <td>54627070780</td>\n",
              "      <td>2.506312e+07</td>\n",
              "      <td>172820.592158</td>\n",
              "      <td>8.654305e+06</td>\n",
              "      <td>2.835322e+09</td>\n",
              "    </tr>\n",
              "    <tr>\n",
              "      <th>2</th>\n",
              "      <td>1624060800</td>\n",
              "      <td>55438570398</td>\n",
              "      <td>2.478987e+07</td>\n",
              "      <td>172546.542025</td>\n",
              "      <td>8.676121e+06</td>\n",
              "      <td>2.921278e+09</td>\n",
              "    </tr>\n",
              "    <tr>\n",
              "      <th>3</th>\n",
              "      <td>1623974400</td>\n",
              "      <td>58737024010</td>\n",
              "      <td>2.473284e+07</td>\n",
              "      <td>169897.285278</td>\n",
              "      <td>8.633628e+06</td>\n",
              "      <td>2.909253e+09</td>\n",
              "    </tr>\n",
              "    <tr>\n",
              "      <th>4</th>\n",
              "      <td>1623888000</td>\n",
              "      <td>59366500781</td>\n",
              "      <td>2.506841e+07</td>\n",
              "      <td>174916.777142</td>\n",
              "      <td>8.701187e+06</td>\n",
              "      <td>3.120715e+09</td>\n",
              "    </tr>\n",
              "  </tbody>\n",
              "</table>\n",
              "</div>"
            ],
            "text/plain": [
              "    timestamp       tvlUSD  ...           ETH           DAI\n",
              "0  1624179600  55152945101  ...  8.635372e+06  2.833782e+09\n",
              "1  1624147200  54627070780  ...  8.654305e+06  2.835322e+09\n",
              "2  1624060800  55438570398  ...  8.676121e+06  2.921278e+09\n",
              "3  1623974400  58737024010  ...  8.633628e+06  2.909253e+09\n",
              "4  1623888000  59366500781  ...  8.701187e+06  3.120715e+09\n",
              "\n",
              "[5 rows x 6 columns]"
            ]
          },
          "metadata": {
            "tags": []
          },
          "execution_count": 43
        }
      ]
    },
    {
      "cell_type": "markdown",
      "metadata": {
        "id": "YSYc0dTwshDT"
      },
      "source": [
        "### Epoch & Unix Timestamp Conversion Tools: \n",
        "\n",
        "https://www.epochconverter.com/"
      ]
    },
    {
      "cell_type": "code",
      "metadata": {
        "colab": {
          "base_uri": "https://localhost:8080/"
        },
        "id": "mA0dLPWOsc__",
        "outputId": "010ef676-2c52-4da9-9e7b-9a6dbbe99f4a"
      },
      "source": [
        "import datetime\n",
        "TVL['timestamp']=TVL['timestamp'].astype(int)\n",
        "TVL.dtypes"
      ],
      "execution_count": 44,
      "outputs": [
        {
          "output_type": "execute_result",
          "data": {
            "text/plain": [
              "timestamp      int64\n",
              "tvlUSD         int64\n",
              "tvlETH       float64\n",
              "BTC          float64\n",
              "ETH          float64\n",
              "DAI          float64\n",
              "dtype: object"
            ]
          },
          "metadata": {
            "tags": []
          },
          "execution_count": 44
        }
      ]
    },
    {
      "cell_type": "code",
      "metadata": {
        "colab": {
          "base_uri": "https://localhost:8080/",
          "height": 204
        },
        "id": "ejHxsc6vuTYk",
        "outputId": "35c337b3-15ba-4f4c-d024-dba917f62b1c"
      },
      "source": [
        "TVL['time']=TVL['timestamp'].apply(lambda x: datetime.datetime.utcfromtimestamp(x).replace(tzinfo=datetime.timezone.utc))\n",
        "TVL.head()"
      ],
      "execution_count": 45,
      "outputs": [
        {
          "output_type": "execute_result",
          "data": {
            "text/html": [
              "<div>\n",
              "<style scoped>\n",
              "    .dataframe tbody tr th:only-of-type {\n",
              "        vertical-align: middle;\n",
              "    }\n",
              "\n",
              "    .dataframe tbody tr th {\n",
              "        vertical-align: top;\n",
              "    }\n",
              "\n",
              "    .dataframe thead th {\n",
              "        text-align: right;\n",
              "    }\n",
              "</style>\n",
              "<table border=\"1\" class=\"dataframe\">\n",
              "  <thead>\n",
              "    <tr style=\"text-align: right;\">\n",
              "      <th></th>\n",
              "      <th>timestamp</th>\n",
              "      <th>tvlUSD</th>\n",
              "      <th>tvlETH</th>\n",
              "      <th>BTC</th>\n",
              "      <th>ETH</th>\n",
              "      <th>DAI</th>\n",
              "      <th>time</th>\n",
              "    </tr>\n",
              "  </thead>\n",
              "  <tbody>\n",
              "    <tr>\n",
              "      <th>0</th>\n",
              "      <td>1624179600</td>\n",
              "      <td>55152945101</td>\n",
              "      <td>2.492822e+07</td>\n",
              "      <td>171912.219296</td>\n",
              "      <td>8.635372e+06</td>\n",
              "      <td>2.833782e+09</td>\n",
              "      <td>2021-06-20 09:00:00+00:00</td>\n",
              "    </tr>\n",
              "    <tr>\n",
              "      <th>1</th>\n",
              "      <td>1624147200</td>\n",
              "      <td>54627070780</td>\n",
              "      <td>2.506312e+07</td>\n",
              "      <td>172820.592158</td>\n",
              "      <td>8.654305e+06</td>\n",
              "      <td>2.835322e+09</td>\n",
              "      <td>2021-06-20 00:00:00+00:00</td>\n",
              "    </tr>\n",
              "    <tr>\n",
              "      <th>2</th>\n",
              "      <td>1624060800</td>\n",
              "      <td>55438570398</td>\n",
              "      <td>2.478987e+07</td>\n",
              "      <td>172546.542025</td>\n",
              "      <td>8.676121e+06</td>\n",
              "      <td>2.921278e+09</td>\n",
              "      <td>2021-06-19 00:00:00+00:00</td>\n",
              "    </tr>\n",
              "    <tr>\n",
              "      <th>3</th>\n",
              "      <td>1623974400</td>\n",
              "      <td>58737024010</td>\n",
              "      <td>2.473284e+07</td>\n",
              "      <td>169897.285278</td>\n",
              "      <td>8.633628e+06</td>\n",
              "      <td>2.909253e+09</td>\n",
              "      <td>2021-06-18 00:00:00+00:00</td>\n",
              "    </tr>\n",
              "    <tr>\n",
              "      <th>4</th>\n",
              "      <td>1623888000</td>\n",
              "      <td>59366500781</td>\n",
              "      <td>2.506841e+07</td>\n",
              "      <td>174916.777142</td>\n",
              "      <td>8.701187e+06</td>\n",
              "      <td>3.120715e+09</td>\n",
              "      <td>2021-06-17 00:00:00+00:00</td>\n",
              "    </tr>\n",
              "  </tbody>\n",
              "</table>\n",
              "</div>"
            ],
            "text/plain": [
              "    timestamp       tvlUSD  ...           DAI                      time\n",
              "0  1624179600  55152945101  ...  2.833782e+09 2021-06-20 09:00:00+00:00\n",
              "1  1624147200  54627070780  ...  2.835322e+09 2021-06-20 00:00:00+00:00\n",
              "2  1624060800  55438570398  ...  2.921278e+09 2021-06-19 00:00:00+00:00\n",
              "3  1623974400  58737024010  ...  2.909253e+09 2021-06-18 00:00:00+00:00\n",
              "4  1623888000  59366500781  ...  3.120715e+09 2021-06-17 00:00:00+00:00\n",
              "\n",
              "[5 rows x 7 columns]"
            ]
          },
          "metadata": {
            "tags": []
          },
          "execution_count": 45
        }
      ]
    },
    {
      "cell_type": "code",
      "metadata": {
        "colab": {
          "base_uri": "https://localhost:8080/",
          "height": 204
        },
        "id": "Tbt5RqFyua50",
        "outputId": "64e873b3-04ac-406a-bccf-53a50377acb2"
      },
      "source": [
        "TVL['date'] = pd.to_datetime(TVL['time']).dt.date\n",
        "TVL.head()"
      ],
      "execution_count": 46,
      "outputs": [
        {
          "output_type": "execute_result",
          "data": {
            "text/html": [
              "<div>\n",
              "<style scoped>\n",
              "    .dataframe tbody tr th:only-of-type {\n",
              "        vertical-align: middle;\n",
              "    }\n",
              "\n",
              "    .dataframe tbody tr th {\n",
              "        vertical-align: top;\n",
              "    }\n",
              "\n",
              "    .dataframe thead th {\n",
              "        text-align: right;\n",
              "    }\n",
              "</style>\n",
              "<table border=\"1\" class=\"dataframe\">\n",
              "  <thead>\n",
              "    <tr style=\"text-align: right;\">\n",
              "      <th></th>\n",
              "      <th>timestamp</th>\n",
              "      <th>tvlUSD</th>\n",
              "      <th>tvlETH</th>\n",
              "      <th>BTC</th>\n",
              "      <th>ETH</th>\n",
              "      <th>DAI</th>\n",
              "      <th>time</th>\n",
              "      <th>date</th>\n",
              "    </tr>\n",
              "  </thead>\n",
              "  <tbody>\n",
              "    <tr>\n",
              "      <th>0</th>\n",
              "      <td>1624179600</td>\n",
              "      <td>55152945101</td>\n",
              "      <td>2.492822e+07</td>\n",
              "      <td>171912.219296</td>\n",
              "      <td>8.635372e+06</td>\n",
              "      <td>2.833782e+09</td>\n",
              "      <td>2021-06-20 09:00:00+00:00</td>\n",
              "      <td>2021-06-20</td>\n",
              "    </tr>\n",
              "    <tr>\n",
              "      <th>1</th>\n",
              "      <td>1624147200</td>\n",
              "      <td>54627070780</td>\n",
              "      <td>2.506312e+07</td>\n",
              "      <td>172820.592158</td>\n",
              "      <td>8.654305e+06</td>\n",
              "      <td>2.835322e+09</td>\n",
              "      <td>2021-06-20 00:00:00+00:00</td>\n",
              "      <td>2021-06-20</td>\n",
              "    </tr>\n",
              "    <tr>\n",
              "      <th>2</th>\n",
              "      <td>1624060800</td>\n",
              "      <td>55438570398</td>\n",
              "      <td>2.478987e+07</td>\n",
              "      <td>172546.542025</td>\n",
              "      <td>8.676121e+06</td>\n",
              "      <td>2.921278e+09</td>\n",
              "      <td>2021-06-19 00:00:00+00:00</td>\n",
              "      <td>2021-06-19</td>\n",
              "    </tr>\n",
              "    <tr>\n",
              "      <th>3</th>\n",
              "      <td>1623974400</td>\n",
              "      <td>58737024010</td>\n",
              "      <td>2.473284e+07</td>\n",
              "      <td>169897.285278</td>\n",
              "      <td>8.633628e+06</td>\n",
              "      <td>2.909253e+09</td>\n",
              "      <td>2021-06-18 00:00:00+00:00</td>\n",
              "      <td>2021-06-18</td>\n",
              "    </tr>\n",
              "    <tr>\n",
              "      <th>4</th>\n",
              "      <td>1623888000</td>\n",
              "      <td>59366500781</td>\n",
              "      <td>2.506841e+07</td>\n",
              "      <td>174916.777142</td>\n",
              "      <td>8.701187e+06</td>\n",
              "      <td>3.120715e+09</td>\n",
              "      <td>2021-06-17 00:00:00+00:00</td>\n",
              "      <td>2021-06-17</td>\n",
              "    </tr>\n",
              "  </tbody>\n",
              "</table>\n",
              "</div>"
            ],
            "text/plain": [
              "    timestamp       tvlUSD  ...                      time        date\n",
              "0  1624179600  55152945101  ... 2021-06-20 09:00:00+00:00  2021-06-20\n",
              "1  1624147200  54627070780  ... 2021-06-20 00:00:00+00:00  2021-06-20\n",
              "2  1624060800  55438570398  ... 2021-06-19 00:00:00+00:00  2021-06-19\n",
              "3  1623974400  58737024010  ... 2021-06-18 00:00:00+00:00  2021-06-18\n",
              "4  1623888000  59366500781  ... 2021-06-17 00:00:00+00:00  2021-06-17\n",
              "\n",
              "[5 rows x 8 columns]"
            ]
          },
          "metadata": {
            "tags": []
          },
          "execution_count": 46
        }
      ]
    },
    {
      "cell_type": "code",
      "metadata": {
        "colab": {
          "base_uri": "https://localhost:8080/"
        },
        "id": "-cMJinDc1D5z",
        "outputId": "5c2dbae5-6b35-4464-a2be-c8907608abd3"
      },
      "source": [
        "TVL=TVL.drop(columns='time')\n",
        "TVL['date']=pd.to_datetime(TVL['date'])\n",
        "TVL.dtypes"
      ],
      "execution_count": 47,
      "outputs": [
        {
          "output_type": "execute_result",
          "data": {
            "text/plain": [
              "timestamp             int64\n",
              "tvlUSD                int64\n",
              "tvlETH              float64\n",
              "BTC                 float64\n",
              "ETH                 float64\n",
              "DAI                 float64\n",
              "date         datetime64[ns]\n",
              "dtype: object"
            ]
          },
          "metadata": {
            "tags": []
          },
          "execution_count": 47
        }
      ]
    },
    {
      "cell_type": "markdown",
      "metadata": {
        "id": "zqQ0daK2wMQN"
      },
      "source": [
        "### Import the data for Ethereum Prices"
      ]
    },
    {
      "cell_type": "markdown",
      "metadata": {
        "id": "mYlmGrgczaPF"
      },
      "source": [
        "[Data Metrics](https://github.com/coinmetrics-io/data/blob/master/csv/metrics.csv)"
      ]
    },
    {
      "cell_type": "code",
      "metadata": {
        "colab": {
          "base_uri": "https://localhost:8080/"
        },
        "id": "QwyZPFlJzT6-",
        "outputId": "f2a9ab98-9ced-4751-8d83-34239d8820c5"
      },
      "source": [
        "df_eth=pd.read_csv(\"https://raw.githubusercontent.com/coinmetrics-io/data/master/csv/eth.csv\",usecols=([\"time\",\"PriceUSD\",\"CapMrktCurUSD\",\"TxTfrValAdjUSD\",\"AdrBalCnt\",\"NVTAdj90\",\"SplyCur\",\"FlowOutExUSD\"]))\n",
        "df_eth['time']=pd.to_datetime(df_eth['time'])\n",
        "df_eth.dtypes"
      ],
      "execution_count": 48,
      "outputs": [
        {
          "output_type": "execute_result",
          "data": {
            "text/plain": [
              "time              datetime64[ns]\n",
              "AdrBalCnt                float64\n",
              "CapMrktCurUSD            float64\n",
              "FlowOutExUSD             float64\n",
              "NVTAdj90                 float64\n",
              "PriceUSD                 float64\n",
              "SplyCur                  float64\n",
              "TxTfrValAdjUSD           float64\n",
              "dtype: object"
            ]
          },
          "metadata": {
            "tags": []
          },
          "execution_count": 48
        }
      ]
    },
    {
      "cell_type": "markdown",
      "metadata": {
        "id": "2pgSXDO11eZ-"
      },
      "source": [
        "### Merge the two Data Frame"
      ]
    },
    {
      "cell_type": "code",
      "metadata": {
        "colab": {
          "base_uri": "https://localhost:8080/",
          "height": 204
        },
        "id": "wuPJKRK4zxS6",
        "outputId": "8611169a-fca6-4081-ad92-19872e03c165"
      },
      "source": [
        "df =df_eth.merge(TVL, left_on='time', right_on='date')\n",
        "df.head()"
      ],
      "execution_count": 49,
      "outputs": [
        {
          "output_type": "execute_result",
          "data": {
            "text/html": [
              "<div>\n",
              "<style scoped>\n",
              "    .dataframe tbody tr th:only-of-type {\n",
              "        vertical-align: middle;\n",
              "    }\n",
              "\n",
              "    .dataframe tbody tr th {\n",
              "        vertical-align: top;\n",
              "    }\n",
              "\n",
              "    .dataframe thead th {\n",
              "        text-align: right;\n",
              "    }\n",
              "</style>\n",
              "<table border=\"1\" class=\"dataframe\">\n",
              "  <thead>\n",
              "    <tr style=\"text-align: right;\">\n",
              "      <th></th>\n",
              "      <th>time</th>\n",
              "      <th>AdrBalCnt</th>\n",
              "      <th>CapMrktCurUSD</th>\n",
              "      <th>FlowOutExUSD</th>\n",
              "      <th>NVTAdj90</th>\n",
              "      <th>PriceUSD</th>\n",
              "      <th>SplyCur</th>\n",
              "      <th>TxTfrValAdjUSD</th>\n",
              "      <th>timestamp</th>\n",
              "      <th>tvlUSD</th>\n",
              "      <th>tvlETH</th>\n",
              "      <th>BTC</th>\n",
              "      <th>ETH</th>\n",
              "      <th>DAI</th>\n",
              "      <th>date</th>\n",
              "    </tr>\n",
              "  </thead>\n",
              "  <tbody>\n",
              "    <tr>\n",
              "      <th>0</th>\n",
              "      <td>2017-08-02</td>\n",
              "      <td>2563959.0</td>\n",
              "      <td>2.039684e+10</td>\n",
              "      <td>7.162628e+07</td>\n",
              "      <td>20.362229</td>\n",
              "      <td>217.584664</td>\n",
              "      <td>9.374206e+07</td>\n",
              "      <td>6.780871e+08</td>\n",
              "      <td>1501632000</td>\n",
              "      <td>0</td>\n",
              "      <td>0.000000</td>\n",
              "      <td>0.0</td>\n",
              "      <td>0.0</td>\n",
              "      <td>0.0</td>\n",
              "      <td>2017-08-02</td>\n",
              "    </tr>\n",
              "    <tr>\n",
              "      <th>1</th>\n",
              "      <td>2017-08-03</td>\n",
              "      <td>2583277.0</td>\n",
              "      <td>2.100563e+10</td>\n",
              "      <td>9.191231e+07</td>\n",
              "      <td>20.979627</td>\n",
              "      <td>224.028898</td>\n",
              "      <td>9.376303e+07</td>\n",
              "      <td>6.062566e+08</td>\n",
              "      <td>1501718400</td>\n",
              "      <td>4</td>\n",
              "      <td>0.018339</td>\n",
              "      <td>0.0</td>\n",
              "      <td>0.0</td>\n",
              "      <td>0.0</td>\n",
              "      <td>2017-08-03</td>\n",
              "    </tr>\n",
              "    <tr>\n",
              "      <th>2</th>\n",
              "      <td>2017-08-04</td>\n",
              "      <td>2605667.0</td>\n",
              "      <td>2.077052e+10</td>\n",
              "      <td>7.497462e+07</td>\n",
              "      <td>20.714810</td>\n",
              "      <td>221.471094</td>\n",
              "      <td>9.378433e+07</td>\n",
              "      <td>5.206240e+08</td>\n",
              "      <td>1501804800</td>\n",
              "      <td>4</td>\n",
              "      <td>0.017826</td>\n",
              "      <td>0.0</td>\n",
              "      <td>0.0</td>\n",
              "      <td>0.0</td>\n",
              "      <td>2017-08-04</td>\n",
              "    </tr>\n",
              "    <tr>\n",
              "      <th>3</th>\n",
              "      <td>2017-08-05</td>\n",
              "      <td>2624386.0</td>\n",
              "      <td>2.335192e+10</td>\n",
              "      <td>1.051840e+08</td>\n",
              "      <td>23.205816</td>\n",
              "      <td>248.939666</td>\n",
              "      <td>9.380552e+07</td>\n",
              "      <td>6.665590e+08</td>\n",
              "      <td>1501891200</td>\n",
              "      <td>5</td>\n",
              "      <td>0.022665</td>\n",
              "      <td>0.0</td>\n",
              "      <td>0.0</td>\n",
              "      <td>0.0</td>\n",
              "      <td>2017-08-05</td>\n",
              "    </tr>\n",
              "    <tr>\n",
              "      <th>4</th>\n",
              "      <td>2017-08-06</td>\n",
              "      <td>2640032.0</td>\n",
              "      <td>2.496085e+10</td>\n",
              "      <td>1.046373e+08</td>\n",
              "      <td>24.667311</td>\n",
              "      <td>266.031146</td>\n",
              "      <td>9.382679e+07</td>\n",
              "      <td>9.229966e+08</td>\n",
              "      <td>1501977600</td>\n",
              "      <td>5</td>\n",
              "      <td>0.019756</td>\n",
              "      <td>0.0</td>\n",
              "      <td>0.0</td>\n",
              "      <td>0.0</td>\n",
              "      <td>2017-08-06</td>\n",
              "    </tr>\n",
              "  </tbody>\n",
              "</table>\n",
              "</div>"
            ],
            "text/plain": [
              "        time  AdrBalCnt  CapMrktCurUSD  FlowOutExUSD  ...  BTC  ETH  DAI       date\n",
              "0 2017-08-02  2563959.0   2.039684e+10  7.162628e+07  ...  0.0  0.0  0.0 2017-08-02\n",
              "1 2017-08-03  2583277.0   2.100563e+10  9.191231e+07  ...  0.0  0.0  0.0 2017-08-03\n",
              "2 2017-08-04  2605667.0   2.077052e+10  7.497462e+07  ...  0.0  0.0  0.0 2017-08-04\n",
              "3 2017-08-05  2624386.0   2.335192e+10  1.051840e+08  ...  0.0  0.0  0.0 2017-08-05\n",
              "4 2017-08-06  2640032.0   2.496085e+10  1.046373e+08  ...  0.0  0.0  0.0 2017-08-06\n",
              "\n",
              "[5 rows x 15 columns]"
            ]
          },
          "metadata": {
            "tags": []
          },
          "execution_count": 49
        }
      ]
    },
    {
      "cell_type": "code",
      "metadata": {
        "id": "HHJX4hy609CY"
      },
      "source": [
        "df=df[[\"date\",\"tvlUSD\",\"PriceUSD\",\"SplyCur\",\"AdrBalCnt\",\"FlowOutExUSD\"]]"
      ],
      "execution_count": 50,
      "outputs": []
    },
    {
      "cell_type": "markdown",
      "metadata": {
        "id": "TYUpm17R1-dp"
      },
      "source": [
        "# Test Instrument Validities\n",
        "\n",
        "Y: \"tvlUSD\"\n",
        "\n",
        "X: \"FlowOutExUSD\"\n",
        "\n",
        "Z: \"SplyCur\"\n",
        "\n",
        "W: \"AdrBalCnt\""
      ]
    },
    {
      "cell_type": "code",
      "metadata": {
        "colab": {
          "base_uri": "https://localhost:8080/",
          "height": 111
        },
        "id": "LAM6AcsE2y0Q",
        "outputId": "894b3910-4cce-417b-83ff-c2300f3f067f"
      },
      "source": [
        "df[[\"FlowOutExUSD\",\"SplyCur\"]].corr()"
      ],
      "execution_count": 51,
      "outputs": [
        {
          "output_type": "execute_result",
          "data": {
            "text/html": [
              "<div>\n",
              "<style scoped>\n",
              "    .dataframe tbody tr th:only-of-type {\n",
              "        vertical-align: middle;\n",
              "    }\n",
              "\n",
              "    .dataframe tbody tr th {\n",
              "        vertical-align: top;\n",
              "    }\n",
              "\n",
              "    .dataframe thead th {\n",
              "        text-align: right;\n",
              "    }\n",
              "</style>\n",
              "<table border=\"1\" class=\"dataframe\">\n",
              "  <thead>\n",
              "    <tr style=\"text-align: right;\">\n",
              "      <th></th>\n",
              "      <th>FlowOutExUSD</th>\n",
              "      <th>SplyCur</th>\n",
              "    </tr>\n",
              "  </thead>\n",
              "  <tbody>\n",
              "    <tr>\n",
              "      <th>FlowOutExUSD</th>\n",
              "      <td>1.000000</td>\n",
              "      <td>0.312248</td>\n",
              "    </tr>\n",
              "    <tr>\n",
              "      <th>SplyCur</th>\n",
              "      <td>0.312248</td>\n",
              "      <td>1.000000</td>\n",
              "    </tr>\n",
              "  </tbody>\n",
              "</table>\n",
              "</div>"
            ],
            "text/plain": [
              "              FlowOutExUSD   SplyCur\n",
              "FlowOutExUSD      1.000000  0.312248\n",
              "SplyCur           0.312248  1.000000"
            ]
          },
          "metadata": {
            "tags": []
          },
          "execution_count": 51
        }
      ]
    },
    {
      "cell_type": "markdown",
      "metadata": {
        "id": "6366aGHi3kt7"
      },
      "source": [
        "# Using the Linear Model Package\n",
        "\n",
        "https://bashtage.github.io/linearmodels/doc/iv/index.html"
      ]
    },
    {
      "cell_type": "code",
      "metadata": {
        "colab": {
          "base_uri": "https://localhost:8080/"
        },
        "id": "I6XzAwjZ3tmx",
        "outputId": "b509317e-5164-44d2-cc8f-f70782f104fc"
      },
      "source": [
        "pip install linearmodels"
      ],
      "execution_count": 42,
      "outputs": [
        {
          "output_type": "stream",
          "text": [
            "Requirement already satisfied: linearmodels in /usr/local/lib/python3.7/dist-packages (4.24)\n",
            "Requirement already satisfied: Cython>=0.29.21 in /usr/local/lib/python3.7/dist-packages (from linearmodels) (0.29.23)\n",
            "Requirement already satisfied: pyhdfe>=0.1 in /usr/local/lib/python3.7/dist-packages (from linearmodels) (0.1.0)\n",
            "Requirement already satisfied: statsmodels>=0.11 in /usr/local/lib/python3.7/dist-packages (from linearmodels) (0.12.2)\n",
            "Requirement already satisfied: patsy in /usr/local/lib/python3.7/dist-packages (from linearmodels) (0.5.1)\n",
            "Requirement already satisfied: scipy>=1.2 in /usr/local/lib/python3.7/dist-packages (from linearmodels) (1.4.1)\n",
            "Requirement already satisfied: numpy>=1.16 in /usr/local/lib/python3.7/dist-packages (from linearmodels) (1.19.5)\n",
            "Requirement already satisfied: mypy-extensions>=0.4 in /usr/local/lib/python3.7/dist-packages (from linearmodels) (0.4.3)\n",
            "Requirement already satisfied: pandas>=0.24 in /usr/local/lib/python3.7/dist-packages (from linearmodels) (1.1.5)\n",
            "Requirement already satisfied: property-cached>=1.6.3 in /usr/local/lib/python3.7/dist-packages (from linearmodels) (1.6.4)\n",
            "Requirement already satisfied: six in /usr/local/lib/python3.7/dist-packages (from patsy->linearmodels) (1.15.0)\n",
            "Requirement already satisfied: pytz>=2017.2 in /usr/local/lib/python3.7/dist-packages (from pandas>=0.24->linearmodels) (2018.9)\n",
            "Requirement already satisfied: python-dateutil>=2.7.3 in /usr/local/lib/python3.7/dist-packages (from pandas>=0.24->linearmodels) (2.8.1)\n"
          ],
          "name": "stdout"
        }
      ]
    },
    {
      "cell_type": "code",
      "metadata": {
        "id": "zPkiZ_PG29pY"
      },
      "source": [
        "from linearmodels import IV2SLS"
      ],
      "execution_count": 52,
      "outputs": []
    },
    {
      "cell_type": "markdown",
      "metadata": {
        "id": "XxYAEg6k5Z4t"
      },
      "source": [
        "### run an OLS"
      ]
    },
    {
      "cell_type": "code",
      "metadata": {
        "id": "VpWEbEA56Lqu"
      },
      "source": [
        "df['const'] = 1"
      ],
      "execution_count": 53,
      "outputs": []
    },
    {
      "cell_type": "code",
      "metadata": {
        "colab": {
          "base_uri": "https://localhost:8080/"
        },
        "id": "bwWWAz_v3pxe",
        "outputId": "8c743594-ac58-4d9f-fd07-e7fa5d728caa"
      },
      "source": [
        "ivolsmod = IV2SLS(df.tvlUSD, df[[\"const\",\"FlowOutExUSD\",\"SplyCur\",\"AdrBalCnt\"]], None, None)\n",
        "res_ols = ivolsmod.fit()\n",
        "print(res_ols)"
      ],
      "execution_count": 54,
      "outputs": [
        {
          "output_type": "stream",
          "text": [
            "                            OLS Estimation Summary                            \n",
            "==============================================================================\n",
            "Dep. Variable:                 tvlUSD   R-squared:                      0.8326\n",
            "Estimator:                        OLS   Adj. R-squared:                 0.8322\n",
            "No. Observations:                1417   F-statistic:                    1815.6\n",
            "Date:                Sun, Jun 20 2021   P-value (F-stat)                0.0000\n",
            "Time:                        09:49:42   Distribution:                  chi2(3)\n",
            "Cov. Estimator:                robust                                         \n",
            "                                                                              \n",
            "                              Parameter Estimates                               \n",
            "================================================================================\n",
            "              Parameter  Std. Err.     T-stat    P-value    Lower CI    Upper CI\n",
            "--------------------------------------------------------------------------------\n",
            "const          3.79e+11  2.965e+10     12.781     0.0000   3.209e+11   4.371e+11\n",
            "FlowOutExUSD     19.529     1.6356     11.940     0.0000      16.324      22.735\n",
            "SplyCur         -4144.4     315.53    -13.135     0.0000     -4762.9     -3526.0\n",
            "AdrBalCnt        2129.5     140.96     15.107     0.0000      1853.2      2405.7\n",
            "================================================================================\n"
          ],
          "name": "stdout"
        }
      ]
    },
    {
      "cell_type": "markdown",
      "metadata": {
        "id": "rgrpPK_w5fmx"
      },
      "source": [
        "### run an IV2SLS"
      ]
    },
    {
      "cell_type": "code",
      "metadata": {
        "colab": {
          "base_uri": "https://localhost:8080/"
        },
        "id": "AlJWi-_y5RUB",
        "outputId": "d959f9a6-d54c-4008-b2f2-c2dbcbbc684f"
      },
      "source": [
        "ivmod = IV2SLS(df.tvlUSD, df[[\"const\",\"AdrBalCnt\"]], df[\"FlowOutExUSD\"], df[\"SplyCur\"])\n",
        "res_2sls = ivmod.fit()\n",
        "print(res_2sls.summary)"
      ],
      "execution_count": 55,
      "outputs": [
        {
          "output_type": "stream",
          "text": [
            "                          IV-2SLS Estimation Summary                          \n",
            "==============================================================================\n",
            "Dep. Variable:                 tvlUSD   R-squared:                      0.6971\n",
            "Estimator:                    IV-2SLS   Adj. R-squared:                 0.6967\n",
            "No. Observations:                1417   F-statistic:                    835.24\n",
            "Date:                Sun, Jun 20 2021   P-value (F-stat)                0.0000\n",
            "Time:                        09:49:42   Distribution:                  chi2(2)\n",
            "Cov. Estimator:                robust                                         \n",
            "                                                                              \n",
            "                              Parameter Estimates                               \n",
            "================================================================================\n",
            "              Parameter  Std. Err.     T-stat    P-value    Lower CI    Upper CI\n",
            "--------------------------------------------------------------------------------\n",
            "const        -1.201e+10  5.804e+08    -20.687     0.0000  -1.314e+10  -1.087e+10\n",
            "AdrBalCnt        306.11     16.772     18.251     0.0000      273.24      338.98\n",
            "FlowOutExUSD     41.777     1.7251     24.217     0.0000      38.396      45.158\n",
            "================================================================================\n",
            "\n",
            "Endogenous: FlowOutExUSD\n",
            "Instruments: SplyCur\n",
            "Robust Covariance (Heteroskedastic)\n",
            "Debiased: False\n"
          ],
          "name": "stdout"
        }
      ]
    },
    {
      "cell_type": "markdown",
      "metadata": {
        "id": "6FXJ7F2L6hjU"
      },
      "source": [
        "### comparison of the results"
      ]
    },
    {
      "cell_type": "code",
      "metadata": {
        "id": "ko-JHZ9T52eI"
      },
      "source": [
        "from collections import OrderedDict\n",
        "from linearmodels.iv.results import compare"
      ],
      "execution_count": 56,
      "outputs": []
    },
    {
      "cell_type": "code",
      "metadata": {
        "colab": {
          "base_uri": "https://localhost:8080/"
        },
        "id": "2uCswn3g6rt5",
        "outputId": "8b067b51-9c4e-457c-d1ac-4a1191e801d7"
      },
      "source": [
        "res = OrderedDict()\n",
        "res['OLS'] = res_ols\n",
        "res['2SLS'] = res_2sls\n",
        "print(compare(res))"
      ],
      "execution_count": 57,
      "outputs": [
        {
          "output_type": "stream",
          "text": [
            "                 Model Comparison                \n",
            "=================================================\n",
            "                               OLS           2SLS\n",
            "-------------------------------------------------\n",
            "Dep. Variable               tvlUSD         tvlUSD\n",
            "Estimator                      OLS        IV-2SLS\n",
            "No. Observations              1417           1417\n",
            "Cov. Est.                   robust         robust\n",
            "R-squared                   0.8326         0.6971\n",
            "Adj. R-squared              0.8322         0.6967\n",
            "F-statistic                 1815.6         835.24\n",
            "P-value (F-stat)            0.0000         0.0000\n",
            "==================     ===========   ============\n",
            "const                     3.79e+11     -1.201e+10\n",
            "                          (12.781)      (-20.687)\n",
            "FlowOutExUSD                19.529         41.777\n",
            "                          (11.940)       (24.217)\n",
            "SplyCur                    -4144.4               \n",
            "                         (-13.135)               \n",
            "AdrBalCnt                   2129.5         306.11\n",
            "                          (15.107)       (18.251)\n",
            "==================== ============= ==============\n",
            "Instruments                               SplyCur\n",
            "-------------------------------------------------\n",
            "\n",
            "T-stats reported in parentheses\n"
          ],
          "name": "stdout"
        }
      ]
    },
    {
      "cell_type": "markdown",
      "metadata": {
        "id": "ucuxJA-e62Eo"
      },
      "source": [
        "### Testing endogeneity"
      ]
    },
    {
      "cell_type": "markdown",
      "metadata": {
        "id": "hOrvX00o6-sI"
      },
      "source": [
        "The Durbin test is a classic of endogeneity which compares OLS estimates with 2SLS and exploits the fact that OLS estimates will be relatively efficient. Durbin’s test is not robust to heteroskedasticity."
      ]
    },
    {
      "cell_type": "code",
      "metadata": {
        "colab": {
          "base_uri": "https://localhost:8080/"
        },
        "id": "ET-0LIWQ6vuR",
        "outputId": "e7ba8f98-8c84-4f28-8527-1f3cee4275c9"
      },
      "source": [
        "res_2sls.durbin()"
      ],
      "execution_count": 58,
      "outputs": [
        {
          "output_type": "execute_result",
          "data": {
            "text/plain": [
              "Durbin test of exogeneity\n",
              "H0: All endogenous variables are exogenous\n",
              "Statistic: 313.6836\n",
              "P-value: 0.0000\n",
              "Distributed: chi2(1)\n",
              "WaldTestStatistic, id: 0x7ff88881a7d0"
            ]
          },
          "metadata": {
            "tags": []
          },
          "execution_count": 58
        }
      ]
    },
    {
      "cell_type": "markdown",
      "metadata": {
        "id": "oOc2ojRD7R7p"
      },
      "source": [
        "Wooldridge’s regression-based test of exogeneity is robust to heteroskedasticity since it inherits the covariance estimator from the model. Here there is little difference."
      ]
    },
    {
      "cell_type": "code",
      "metadata": {
        "colab": {
          "base_uri": "https://localhost:8080/"
        },
        "id": "xpOJjC6a7Bk7",
        "outputId": "460b6131-8b0c-48e6-d0f9-3af5b609d283"
      },
      "source": [
        "res_2sls.wooldridge_regression"
      ],
      "execution_count": 59,
      "outputs": [
        {
          "output_type": "execute_result",
          "data": {
            "text/plain": [
              "Wooldridge's regression test of exogeneity\n",
              "H0: Endogenous variables are exogenous\n",
              "Statistic: 172.5277\n",
              "P-value: 0.0000\n",
              "Distributed: chi2(1)\n",
              "WaldTestStatistic, id: 0x7ff88891a190"
            ]
          },
          "metadata": {
            "tags": []
          },
          "execution_count": 59
        }
      ]
    },
    {
      "cell_type": "markdown",
      "metadata": {
        "id": "51xkG50O7p5M"
      },
      "source": [
        "### print first stage regression"
      ]
    },
    {
      "cell_type": "code",
      "metadata": {
        "colab": {
          "base_uri": "https://localhost:8080/"
        },
        "id": "bn7PCPjl7Nwd",
        "outputId": "d52e17b7-530e-4235-cf08-0ad4781aaabb"
      },
      "source": [
        "print(res_2sls.first_stage)"
      ],
      "execution_count": 60,
      "outputs": [
        {
          "output_type": "stream",
          "text": [
            "     First Stage Estimation Results    \n",
            "=======================================\n",
            "                           FlowOutExUSD\n",
            "---------------------------------------\n",
            "R-squared                        0.4602\n",
            "Partial R-squared                0.3515\n",
            "Shea's R-squared                 0.3515\n",
            "Partial F-statistic              398.75\n",
            "P-value (Partial F-stat)         0.0000\n",
            "Partial F-stat Distn            chi2(1)\n",
            "==========================  ===========\n",
            "const                         1.757e+10\n",
            "                               (20.168)\n",
            "AdrBalCnt                        81.956\n",
            "                               (19.500)\n",
            "SplyCur                         -186.29\n",
            "                              (-19.969)\n",
            "---------------------------------------\n",
            "\n",
            "T-stats reported in parentheses\n",
            "T-stats use same covariance type as original model\n"
          ],
          "name": "stdout"
        }
      ]
    },
    {
      "cell_type": "markdown",
      "metadata": {
        "id": "-vP6TFhE7zVS"
      },
      "source": [
        "# Using the Statsmodel Package\n",
        "\n",
        "Not recommended"
      ]
    },
    {
      "cell_type": "markdown",
      "metadata": {
        "id": "RJzb5lIN74LQ"
      },
      "source": [
        "https://www.statsmodels.org/dev/generated/statsmodels.sandbox.regression.gmm.IV2SLS.html"
      ]
    }
  ]
}