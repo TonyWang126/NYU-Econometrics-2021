{
  "nbformat": 4,
  "nbformat_minor": 0,
  "metadata": {
    "colab": {
      "name": "Note 5",
      "provenance": [],
      "include_colab_link": true
    },
    "kernelspec": {
      "name": "python3",
      "display_name": "Python 3"
    },
    "language_info": {
      "name": "python"
    }
  },
  "cells": [
    {
      "cell_type": "markdown",
      "metadata": {
        "id": "view-in-github",
        "colab_type": "text"
      },
      "source": [
        "<a href=\"https://colab.research.google.com/github/TonyWang126/NYU-Econometrics-2021/blob/main/Note_5.ipynb\" target=\"_parent\"><img src=\"https://colab.research.google.com/assets/colab-badge.svg\" alt=\"Open In Colab\"/></a>"
      ]
    },
    {
      "cell_type": "markdown",
      "metadata": {
        "id": "f0G9yuVMVKsy"
      },
      "source": [
        "# **Briefings**\n",
        "\n",
        "1. Two packages:\n",
        "\n",
        "\n",
        "*   https://www.statsmodels.org/dev/generated/statsmodels.sandbox.regression.gmm.IV2SLS.html\n",
        "*   https://bashtage.github.io/linearmodels/doc/iv/examples/advanced-examples.html\n",
        "\n",
        "2. Four variables:\n",
        "\n",
        "Dependent Variables: Y\n",
        "Endogenous Variable: X\n",
        "Control variables: W\n",
        "instruments: Z\n",
        "\n",
        "3. Two regressions\n",
        "\n",
        "\n",
        "*   First: X~Z\n",
        "*   Second: Y~(estimated_X+W)\n",
        "\n",
        "\n",
        "\n"
      ]
    },
    {
      "cell_type": "markdown",
      "metadata": {
        "id": "IUvVJLif18yB"
      },
      "source": [
        ""
      ]
    },
    {
      "cell_type": "markdown",
      "metadata": {
        "id": "yN-Z8unoodnr"
      },
      "source": [
        "background readings: https://cryptobriefing.com/earning-20-apy-with-yield-app/"
      ]
    },
    {
      "cell_type": "markdown",
      "metadata": {
        "id": "CCgjIvhKWQgb"
      },
      "source": [
        "# Data Preparations"
      ]
    },
    {
      "cell_type": "markdown",
      "metadata": {
        "id": "FjsgYGqusAE5"
      },
      "source": [
        "### Date Sources \n",
        "https://docs.defipulse.com/overview-of-api-endpoints\n",
        "\n",
        "https://data-beta.defipulse.com/dashboard/egs\n",
        "\n",
        "https://docs.defipulse.com/api-docs-by-provider/defi-pulse-data/total-value-locked/total-value-locked"
      ]
    },
    {
      "cell_type": "markdown",
      "metadata": {
        "id": "-ypMOn9isF69"
      },
      "source": [
        "### Import the Historical Data of Total Value Locked"
      ]
    },
    {
      "cell_type": "code",
      "metadata": {
        "colab": {
          "base_uri": "https://localhost:8080/",
          "height": 204
        },
        "id": "NvA4Ft3xU5yg",
        "outputId": "476b4af7-3ac2-4a09-9598-fba8fa6b45aa"
      },
      "source": [
        "import pandas as pd\n",
        "import requests\n",
        "import json \n",
        "from datetime import datetime\n",
        "TVL= requests.get('https://data-api.defipulse.com/api/v1/defipulse/api/GetHistory?resolution=history&project=all&api-key=05f8e579a2bec58c6fb86b5ad1d84b76b0267a190307cdf6f194960c4121')\n",
        "TVL= TVL.json()\n",
        "TVL=pd.DataFrame(TVL)\n",
        "TVL.head()"
      ],
      "execution_count": null,
      "outputs": [
        {
          "output_type": "execute_result",
          "data": {
            "text/html": [
              "<div>\n",
              "<style scoped>\n",
              "    .dataframe tbody tr th:only-of-type {\n",
              "        vertical-align: middle;\n",
              "    }\n",
              "\n",
              "    .dataframe tbody tr th {\n",
              "        vertical-align: top;\n",
              "    }\n",
              "\n",
              "    .dataframe thead th {\n",
              "        text-align: right;\n",
              "    }\n",
              "</style>\n",
              "<table border=\"1\" class=\"dataframe\">\n",
              "  <thead>\n",
              "    <tr style=\"text-align: right;\">\n",
              "      <th></th>\n",
              "      <th>timestamp</th>\n",
              "      <th>tvlUSD</th>\n",
              "      <th>tvlETH</th>\n",
              "      <th>BTC</th>\n",
              "      <th>ETH</th>\n",
              "      <th>DAI</th>\n",
              "    </tr>\n",
              "  </thead>\n",
              "  <tbody>\n",
              "    <tr>\n",
              "      <th>0</th>\n",
              "      <td>1624806000</td>\n",
              "      <td>48470247455</td>\n",
              "      <td>2.626473e+07</td>\n",
              "      <td>164703.242424</td>\n",
              "      <td>8.749086e+06</td>\n",
              "      <td>2.674866e+09</td>\n",
              "    </tr>\n",
              "    <tr>\n",
              "      <th>1</th>\n",
              "      <td>1624752000</td>\n",
              "      <td>47980997651</td>\n",
              "      <td>2.620108e+07</td>\n",
              "      <td>165755.662931</td>\n",
              "      <td>8.740187e+06</td>\n",
              "      <td>2.689429e+09</td>\n",
              "    </tr>\n",
              "    <tr>\n",
              "      <th>2</th>\n",
              "      <td>1624665600</td>\n",
              "      <td>47965626508</td>\n",
              "      <td>2.641104e+07</td>\n",
              "      <td>163732.474282</td>\n",
              "      <td>8.746788e+06</td>\n",
              "      <td>2.701426e+09</td>\n",
              "    </tr>\n",
              "    <tr>\n",
              "      <th>3</th>\n",
              "      <td>1624579200</td>\n",
              "      <td>50994717087</td>\n",
              "      <td>2.560618e+07</td>\n",
              "      <td>164570.777150</td>\n",
              "      <td>8.682699e+06</td>\n",
              "      <td>2.692037e+09</td>\n",
              "    </tr>\n",
              "    <tr>\n",
              "      <th>4</th>\n",
              "      <td>1624492800</td>\n",
              "      <td>50101916045</td>\n",
              "      <td>2.539506e+07</td>\n",
              "      <td>162681.342310</td>\n",
              "      <td>8.509900e+06</td>\n",
              "      <td>2.663994e+09</td>\n",
              "    </tr>\n",
              "  </tbody>\n",
              "</table>\n",
              "</div>"
            ],
            "text/plain": [
              "    timestamp       tvlUSD  ...           ETH           DAI\n",
              "0  1624806000  48470247455  ...  8.749086e+06  2.674866e+09\n",
              "1  1624752000  47980997651  ...  8.740187e+06  2.689429e+09\n",
              "2  1624665600  47965626508  ...  8.746788e+06  2.701426e+09\n",
              "3  1624579200  50994717087  ...  8.682699e+06  2.692037e+09\n",
              "4  1624492800  50101916045  ...  8.509900e+06  2.663994e+09\n",
              "\n",
              "[5 rows x 6 columns]"
            ]
          },
          "metadata": {
            "tags": []
          },
          "execution_count": 1
        }
      ]
    },
    {
      "cell_type": "markdown",
      "metadata": {
        "id": "YSYc0dTwshDT"
      },
      "source": [
        "### Epoch & Unix Timestamp Conversion Tools: \n",
        "\n",
        "https://www.epochconverter.com/"
      ]
    },
    {
      "cell_type": "code",
      "metadata": {
        "colab": {
          "base_uri": "https://localhost:8080/"
        },
        "id": "mA0dLPWOsc__",
        "outputId": "3650394f-031b-4472-c4ca-dfc36dab7912"
      },
      "source": [
        "import datetime\n",
        "TVL['timestamp']=TVL['timestamp'].astype(int)\n",
        "TVL.dtypes"
      ],
      "execution_count": null,
      "outputs": [
        {
          "output_type": "execute_result",
          "data": {
            "text/plain": [
              "timestamp      int64\n",
              "tvlUSD         int64\n",
              "tvlETH       float64\n",
              "BTC          float64\n",
              "ETH          float64\n",
              "DAI          float64\n",
              "dtype: object"
            ]
          },
          "metadata": {
            "tags": []
          },
          "execution_count": 2
        }
      ]
    },
    {
      "cell_type": "code",
      "metadata": {
        "colab": {
          "base_uri": "https://localhost:8080/",
          "height": 204
        },
        "id": "ejHxsc6vuTYk",
        "outputId": "9982e5a2-9b74-4ea8-bd19-7006ddb93938"
      },
      "source": [
        "TVL['time']=TVL['timestamp'].apply(lambda x: datetime.datetime.utcfromtimestamp(x).replace(tzinfo=datetime.timezone.utc))\n",
        "TVL.head()"
      ],
      "execution_count": null,
      "outputs": [
        {
          "output_type": "execute_result",
          "data": {
            "text/html": [
              "<div>\n",
              "<style scoped>\n",
              "    .dataframe tbody tr th:only-of-type {\n",
              "        vertical-align: middle;\n",
              "    }\n",
              "\n",
              "    .dataframe tbody tr th {\n",
              "        vertical-align: top;\n",
              "    }\n",
              "\n",
              "    .dataframe thead th {\n",
              "        text-align: right;\n",
              "    }\n",
              "</style>\n",
              "<table border=\"1\" class=\"dataframe\">\n",
              "  <thead>\n",
              "    <tr style=\"text-align: right;\">\n",
              "      <th></th>\n",
              "      <th>timestamp</th>\n",
              "      <th>tvlUSD</th>\n",
              "      <th>tvlETH</th>\n",
              "      <th>BTC</th>\n",
              "      <th>ETH</th>\n",
              "      <th>DAI</th>\n",
              "      <th>time</th>\n",
              "    </tr>\n",
              "  </thead>\n",
              "  <tbody>\n",
              "    <tr>\n",
              "      <th>0</th>\n",
              "      <td>1624806000</td>\n",
              "      <td>48470247455</td>\n",
              "      <td>2.626473e+07</td>\n",
              "      <td>164703.242424</td>\n",
              "      <td>8.749086e+06</td>\n",
              "      <td>2.674866e+09</td>\n",
              "      <td>2021-06-27 15:00:00+00:00</td>\n",
              "    </tr>\n",
              "    <tr>\n",
              "      <th>1</th>\n",
              "      <td>1624752000</td>\n",
              "      <td>47980997651</td>\n",
              "      <td>2.620108e+07</td>\n",
              "      <td>165755.662931</td>\n",
              "      <td>8.740187e+06</td>\n",
              "      <td>2.689429e+09</td>\n",
              "      <td>2021-06-27 00:00:00+00:00</td>\n",
              "    </tr>\n",
              "    <tr>\n",
              "      <th>2</th>\n",
              "      <td>1624665600</td>\n",
              "      <td>47965626508</td>\n",
              "      <td>2.641104e+07</td>\n",
              "      <td>163732.474282</td>\n",
              "      <td>8.746788e+06</td>\n",
              "      <td>2.701426e+09</td>\n",
              "      <td>2021-06-26 00:00:00+00:00</td>\n",
              "    </tr>\n",
              "    <tr>\n",
              "      <th>3</th>\n",
              "      <td>1624579200</td>\n",
              "      <td>50994717087</td>\n",
              "      <td>2.560618e+07</td>\n",
              "      <td>164570.777150</td>\n",
              "      <td>8.682699e+06</td>\n",
              "      <td>2.692037e+09</td>\n",
              "      <td>2021-06-25 00:00:00+00:00</td>\n",
              "    </tr>\n",
              "    <tr>\n",
              "      <th>4</th>\n",
              "      <td>1624492800</td>\n",
              "      <td>50101916045</td>\n",
              "      <td>2.539506e+07</td>\n",
              "      <td>162681.342310</td>\n",
              "      <td>8.509900e+06</td>\n",
              "      <td>2.663994e+09</td>\n",
              "      <td>2021-06-24 00:00:00+00:00</td>\n",
              "    </tr>\n",
              "  </tbody>\n",
              "</table>\n",
              "</div>"
            ],
            "text/plain": [
              "    timestamp       tvlUSD  ...           DAI                      time\n",
              "0  1624806000  48470247455  ...  2.674866e+09 2021-06-27 15:00:00+00:00\n",
              "1  1624752000  47980997651  ...  2.689429e+09 2021-06-27 00:00:00+00:00\n",
              "2  1624665600  47965626508  ...  2.701426e+09 2021-06-26 00:00:00+00:00\n",
              "3  1624579200  50994717087  ...  2.692037e+09 2021-06-25 00:00:00+00:00\n",
              "4  1624492800  50101916045  ...  2.663994e+09 2021-06-24 00:00:00+00:00\n",
              "\n",
              "[5 rows x 7 columns]"
            ]
          },
          "metadata": {
            "tags": []
          },
          "execution_count": 3
        }
      ]
    },
    {
      "cell_type": "code",
      "metadata": {
        "colab": {
          "base_uri": "https://localhost:8080/",
          "height": 204
        },
        "id": "Tbt5RqFyua50",
        "outputId": "a026da91-d3bc-498c-bc22-335e6e71700f"
      },
      "source": [
        "TVL['date'] = pd.to_datetime(TVL['time']).dt.date\n",
        "TVL.head()"
      ],
      "execution_count": null,
      "outputs": [
        {
          "output_type": "execute_result",
          "data": {
            "text/html": [
              "<div>\n",
              "<style scoped>\n",
              "    .dataframe tbody tr th:only-of-type {\n",
              "        vertical-align: middle;\n",
              "    }\n",
              "\n",
              "    .dataframe tbody tr th {\n",
              "        vertical-align: top;\n",
              "    }\n",
              "\n",
              "    .dataframe thead th {\n",
              "        text-align: right;\n",
              "    }\n",
              "</style>\n",
              "<table border=\"1\" class=\"dataframe\">\n",
              "  <thead>\n",
              "    <tr style=\"text-align: right;\">\n",
              "      <th></th>\n",
              "      <th>timestamp</th>\n",
              "      <th>tvlUSD</th>\n",
              "      <th>tvlETH</th>\n",
              "      <th>BTC</th>\n",
              "      <th>ETH</th>\n",
              "      <th>DAI</th>\n",
              "      <th>time</th>\n",
              "      <th>date</th>\n",
              "    </tr>\n",
              "  </thead>\n",
              "  <tbody>\n",
              "    <tr>\n",
              "      <th>0</th>\n",
              "      <td>1624806000</td>\n",
              "      <td>48470247455</td>\n",
              "      <td>2.626473e+07</td>\n",
              "      <td>164703.242424</td>\n",
              "      <td>8.749086e+06</td>\n",
              "      <td>2.674866e+09</td>\n",
              "      <td>2021-06-27 15:00:00+00:00</td>\n",
              "      <td>2021-06-27</td>\n",
              "    </tr>\n",
              "    <tr>\n",
              "      <th>1</th>\n",
              "      <td>1624752000</td>\n",
              "      <td>47980997651</td>\n",
              "      <td>2.620108e+07</td>\n",
              "      <td>165755.662931</td>\n",
              "      <td>8.740187e+06</td>\n",
              "      <td>2.689429e+09</td>\n",
              "      <td>2021-06-27 00:00:00+00:00</td>\n",
              "      <td>2021-06-27</td>\n",
              "    </tr>\n",
              "    <tr>\n",
              "      <th>2</th>\n",
              "      <td>1624665600</td>\n",
              "      <td>47965626508</td>\n",
              "      <td>2.641104e+07</td>\n",
              "      <td>163732.474282</td>\n",
              "      <td>8.746788e+06</td>\n",
              "      <td>2.701426e+09</td>\n",
              "      <td>2021-06-26 00:00:00+00:00</td>\n",
              "      <td>2021-06-26</td>\n",
              "    </tr>\n",
              "    <tr>\n",
              "      <th>3</th>\n",
              "      <td>1624579200</td>\n",
              "      <td>50994717087</td>\n",
              "      <td>2.560618e+07</td>\n",
              "      <td>164570.777150</td>\n",
              "      <td>8.682699e+06</td>\n",
              "      <td>2.692037e+09</td>\n",
              "      <td>2021-06-25 00:00:00+00:00</td>\n",
              "      <td>2021-06-25</td>\n",
              "    </tr>\n",
              "    <tr>\n",
              "      <th>4</th>\n",
              "      <td>1624492800</td>\n",
              "      <td>50101916045</td>\n",
              "      <td>2.539506e+07</td>\n",
              "      <td>162681.342310</td>\n",
              "      <td>8.509900e+06</td>\n",
              "      <td>2.663994e+09</td>\n",
              "      <td>2021-06-24 00:00:00+00:00</td>\n",
              "      <td>2021-06-24</td>\n",
              "    </tr>\n",
              "  </tbody>\n",
              "</table>\n",
              "</div>"
            ],
            "text/plain": [
              "    timestamp       tvlUSD  ...                      time        date\n",
              "0  1624806000  48470247455  ... 2021-06-27 15:00:00+00:00  2021-06-27\n",
              "1  1624752000  47980997651  ... 2021-06-27 00:00:00+00:00  2021-06-27\n",
              "2  1624665600  47965626508  ... 2021-06-26 00:00:00+00:00  2021-06-26\n",
              "3  1624579200  50994717087  ... 2021-06-25 00:00:00+00:00  2021-06-25\n",
              "4  1624492800  50101916045  ... 2021-06-24 00:00:00+00:00  2021-06-24\n",
              "\n",
              "[5 rows x 8 columns]"
            ]
          },
          "metadata": {
            "tags": []
          },
          "execution_count": 4
        }
      ]
    },
    {
      "cell_type": "code",
      "metadata": {
        "colab": {
          "base_uri": "https://localhost:8080/"
        },
        "id": "-cMJinDc1D5z",
        "outputId": "76f1d26f-d085-43b6-c441-b9fa55a33a6f"
      },
      "source": [
        "TVL=TVL.drop(columns='time')\n",
        "TVL['date']=pd.to_datetime(TVL['date'])\n",
        "TVL.dtypes"
      ],
      "execution_count": null,
      "outputs": [
        {
          "output_type": "execute_result",
          "data": {
            "text/plain": [
              "timestamp             int64\n",
              "tvlUSD                int64\n",
              "tvlETH              float64\n",
              "BTC                 float64\n",
              "ETH                 float64\n",
              "DAI                 float64\n",
              "date         datetime64[ns]\n",
              "dtype: object"
            ]
          },
          "metadata": {
            "tags": []
          },
          "execution_count": 5
        }
      ]
    },
    {
      "cell_type": "markdown",
      "metadata": {
        "id": "zqQ0daK2wMQN"
      },
      "source": [
        "### Import the data for Ethereum Prices"
      ]
    },
    {
      "cell_type": "markdown",
      "metadata": {
        "id": "mYlmGrgczaPF"
      },
      "source": [
        "[Data Metrics](https://github.com/coinmetrics-io/data/blob/master/csv/metrics.csv)"
      ]
    },
    {
      "cell_type": "code",
      "metadata": {
        "colab": {
          "base_uri": "https://localhost:8080/"
        },
        "id": "QwyZPFlJzT6-",
        "outputId": "478bee41-5c54-42a0-df44-13c487ddd9b6"
      },
      "source": [
        "df_eth=pd.read_csv(\"https://raw.githubusercontent.com/coinmetrics-io/data/master/csv/eth.csv\",usecols=([\"time\",\"PriceUSD\",\"CapMrktCurUSD\",\"TxTfrValAdjUSD\",\"AdrBalCnt\",\"NVTAdj90\",\"SplyCur\",\"FlowOutExUSD\"]))\n",
        "df_eth['time']=pd.to_datetime(df_eth['time'])\n",
        "df_eth.dtypes"
      ],
      "execution_count": null,
      "outputs": [
        {
          "output_type": "execute_result",
          "data": {
            "text/plain": [
              "time              datetime64[ns]\n",
              "AdrBalCnt                float64\n",
              "CapMrktCurUSD            float64\n",
              "FlowOutExUSD             float64\n",
              "NVTAdj90                 float64\n",
              "PriceUSD                 float64\n",
              "SplyCur                  float64\n",
              "TxTfrValAdjUSD           float64\n",
              "dtype: object"
            ]
          },
          "metadata": {
            "tags": []
          },
          "execution_count": 6
        }
      ]
    },
    {
      "cell_type": "markdown",
      "metadata": {
        "id": "2pgSXDO11eZ-"
      },
      "source": [
        "### Merge the two Data Frame"
      ]
    },
    {
      "cell_type": "code",
      "metadata": {
        "colab": {
          "base_uri": "https://localhost:8080/",
          "height": 204
        },
        "id": "wuPJKRK4zxS6",
        "outputId": "be6f6a19-601e-48c6-8f9b-b583c4f406cd"
      },
      "source": [
        "df =df_eth.merge(TVL, left_on='time', right_on='date')\n",
        "df.head()"
      ],
      "execution_count": null,
      "outputs": [
        {
          "output_type": "execute_result",
          "data": {
            "text/html": [
              "<div>\n",
              "<style scoped>\n",
              "    .dataframe tbody tr th:only-of-type {\n",
              "        vertical-align: middle;\n",
              "    }\n",
              "\n",
              "    .dataframe tbody tr th {\n",
              "        vertical-align: top;\n",
              "    }\n",
              "\n",
              "    .dataframe thead th {\n",
              "        text-align: right;\n",
              "    }\n",
              "</style>\n",
              "<table border=\"1\" class=\"dataframe\">\n",
              "  <thead>\n",
              "    <tr style=\"text-align: right;\">\n",
              "      <th></th>\n",
              "      <th>time</th>\n",
              "      <th>AdrBalCnt</th>\n",
              "      <th>CapMrktCurUSD</th>\n",
              "      <th>FlowOutExUSD</th>\n",
              "      <th>NVTAdj90</th>\n",
              "      <th>PriceUSD</th>\n",
              "      <th>SplyCur</th>\n",
              "      <th>TxTfrValAdjUSD</th>\n",
              "      <th>timestamp</th>\n",
              "      <th>tvlUSD</th>\n",
              "      <th>tvlETH</th>\n",
              "      <th>BTC</th>\n",
              "      <th>ETH</th>\n",
              "      <th>DAI</th>\n",
              "      <th>date</th>\n",
              "    </tr>\n",
              "  </thead>\n",
              "  <tbody>\n",
              "    <tr>\n",
              "      <th>0</th>\n",
              "      <td>2017-08-02</td>\n",
              "      <td>2563959.0</td>\n",
              "      <td>2.039684e+10</td>\n",
              "      <td>7.162628e+07</td>\n",
              "      <td>20.362229</td>\n",
              "      <td>217.584664</td>\n",
              "      <td>9.374206e+07</td>\n",
              "      <td>6.780871e+08</td>\n",
              "      <td>1501632000</td>\n",
              "      <td>0</td>\n",
              "      <td>0.000000</td>\n",
              "      <td>0.0</td>\n",
              "      <td>0.0</td>\n",
              "      <td>0.0</td>\n",
              "      <td>2017-08-02</td>\n",
              "    </tr>\n",
              "    <tr>\n",
              "      <th>1</th>\n",
              "      <td>2017-08-03</td>\n",
              "      <td>2583277.0</td>\n",
              "      <td>2.100563e+10</td>\n",
              "      <td>9.191231e+07</td>\n",
              "      <td>20.979627</td>\n",
              "      <td>224.028898</td>\n",
              "      <td>9.376303e+07</td>\n",
              "      <td>6.062566e+08</td>\n",
              "      <td>1501718400</td>\n",
              "      <td>4</td>\n",
              "      <td>0.018339</td>\n",
              "      <td>0.0</td>\n",
              "      <td>0.0</td>\n",
              "      <td>0.0</td>\n",
              "      <td>2017-08-03</td>\n",
              "    </tr>\n",
              "    <tr>\n",
              "      <th>2</th>\n",
              "      <td>2017-08-04</td>\n",
              "      <td>2605667.0</td>\n",
              "      <td>2.077052e+10</td>\n",
              "      <td>7.497462e+07</td>\n",
              "      <td>20.714810</td>\n",
              "      <td>221.471094</td>\n",
              "      <td>9.378433e+07</td>\n",
              "      <td>5.206240e+08</td>\n",
              "      <td>1501804800</td>\n",
              "      <td>4</td>\n",
              "      <td>0.017826</td>\n",
              "      <td>0.0</td>\n",
              "      <td>0.0</td>\n",
              "      <td>0.0</td>\n",
              "      <td>2017-08-04</td>\n",
              "    </tr>\n",
              "    <tr>\n",
              "      <th>3</th>\n",
              "      <td>2017-08-05</td>\n",
              "      <td>2624386.0</td>\n",
              "      <td>2.335192e+10</td>\n",
              "      <td>1.051840e+08</td>\n",
              "      <td>23.205816</td>\n",
              "      <td>248.939666</td>\n",
              "      <td>9.380552e+07</td>\n",
              "      <td>6.665590e+08</td>\n",
              "      <td>1501891200</td>\n",
              "      <td>5</td>\n",
              "      <td>0.022665</td>\n",
              "      <td>0.0</td>\n",
              "      <td>0.0</td>\n",
              "      <td>0.0</td>\n",
              "      <td>2017-08-05</td>\n",
              "    </tr>\n",
              "    <tr>\n",
              "      <th>4</th>\n",
              "      <td>2017-08-06</td>\n",
              "      <td>2640032.0</td>\n",
              "      <td>2.496085e+10</td>\n",
              "      <td>1.046373e+08</td>\n",
              "      <td>24.667311</td>\n",
              "      <td>266.031146</td>\n",
              "      <td>9.382679e+07</td>\n",
              "      <td>9.229966e+08</td>\n",
              "      <td>1501977600</td>\n",
              "      <td>5</td>\n",
              "      <td>0.019756</td>\n",
              "      <td>0.0</td>\n",
              "      <td>0.0</td>\n",
              "      <td>0.0</td>\n",
              "      <td>2017-08-06</td>\n",
              "    </tr>\n",
              "  </tbody>\n",
              "</table>\n",
              "</div>"
            ],
            "text/plain": [
              "        time  AdrBalCnt  CapMrktCurUSD  FlowOutExUSD  ...  BTC  ETH  DAI       date\n",
              "0 2017-08-02  2563959.0   2.039684e+10  7.162628e+07  ...  0.0  0.0  0.0 2017-08-02\n",
              "1 2017-08-03  2583277.0   2.100563e+10  9.191231e+07  ...  0.0  0.0  0.0 2017-08-03\n",
              "2 2017-08-04  2605667.0   2.077052e+10  7.497462e+07  ...  0.0  0.0  0.0 2017-08-04\n",
              "3 2017-08-05  2624386.0   2.335192e+10  1.051840e+08  ...  0.0  0.0  0.0 2017-08-05\n",
              "4 2017-08-06  2640032.0   2.496085e+10  1.046373e+08  ...  0.0  0.0  0.0 2017-08-06\n",
              "\n",
              "[5 rows x 15 columns]"
            ]
          },
          "metadata": {
            "tags": []
          },
          "execution_count": 7
        }
      ]
    },
    {
      "cell_type": "code",
      "metadata": {
        "id": "HHJX4hy609CY"
      },
      "source": [
        "df=df[[\"date\",\"tvlUSD\",\"PriceUSD\",\"SplyCur\",\"AdrBalCnt\",\"FlowOutExUSD\",\"TxTfrValAdjUSD\"]]"
      ],
      "execution_count": null,
      "outputs": []
    },
    {
      "cell_type": "markdown",
      "metadata": {
        "id": "TYUpm17R1-dp"
      },
      "source": [
        "# Test Instrument Validities\n",
        "\n",
        "Y: \"TxTfrValAdjUSD\"\n",
        "\n",
        "X: \"FlowOutExUSD\"\n",
        "\n",
        "Z: \"SplyCur\"\n",
        "\n",
        "W: \"AdrBalCnt\""
      ]
    },
    {
      "cell_type": "code",
      "metadata": {
        "colab": {
          "base_uri": "https://localhost:8080/",
          "height": 111
        },
        "id": "LAM6AcsE2y0Q",
        "outputId": "63509b3e-5153-4a67-f592-a61c38b87108"
      },
      "source": [
        "df[[\"FlowOutExUSD\",\"SplyCur\"]].corr()"
      ],
      "execution_count": null,
      "outputs": [
        {
          "output_type": "execute_result",
          "data": {
            "text/html": [
              "<div>\n",
              "<style scoped>\n",
              "    .dataframe tbody tr th:only-of-type {\n",
              "        vertical-align: middle;\n",
              "    }\n",
              "\n",
              "    .dataframe tbody tr th {\n",
              "        vertical-align: top;\n",
              "    }\n",
              "\n",
              "    .dataframe thead th {\n",
              "        text-align: right;\n",
              "    }\n",
              "</style>\n",
              "<table border=\"1\" class=\"dataframe\">\n",
              "  <thead>\n",
              "    <tr style=\"text-align: right;\">\n",
              "      <th></th>\n",
              "      <th>FlowOutExUSD</th>\n",
              "      <th>SplyCur</th>\n",
              "    </tr>\n",
              "  </thead>\n",
              "  <tbody>\n",
              "    <tr>\n",
              "      <th>FlowOutExUSD</th>\n",
              "      <td>1.000000</td>\n",
              "      <td>0.316229</td>\n",
              "    </tr>\n",
              "    <tr>\n",
              "      <th>SplyCur</th>\n",
              "      <td>0.316229</td>\n",
              "      <td>1.000000</td>\n",
              "    </tr>\n",
              "  </tbody>\n",
              "</table>\n",
              "</div>"
            ],
            "text/plain": [
              "              FlowOutExUSD   SplyCur\n",
              "FlowOutExUSD      1.000000  0.316229\n",
              "SplyCur           0.316229  1.000000"
            ]
          },
          "metadata": {
            "tags": []
          },
          "execution_count": 9
        }
      ]
    },
    {
      "cell_type": "markdown",
      "metadata": {
        "id": "6366aGHi3kt7"
      },
      "source": [
        "# Using the Linear Model Package\n",
        "\n",
        "https://bashtage.github.io/linearmodels/doc/iv/index.html"
      ]
    },
    {
      "cell_type": "code",
      "metadata": {
        "colab": {
          "base_uri": "https://localhost:8080/"
        },
        "id": "I6XzAwjZ3tmx",
        "outputId": "264eb4e2-d347-4f7e-cc53-fe484b5f5760"
      },
      "source": [
        "pip install linearmodels"
      ],
      "execution_count": null,
      "outputs": [
        {
          "output_type": "stream",
          "text": [
            "Collecting linearmodels\n",
            "\u001b[?25l  Downloading https://files.pythonhosted.org/packages/b2/d6/75c6c953a98edaa85647c8b40a335e541c76a9095767382dee009c01e445/linearmodels-4.24-cp37-cp37m-manylinux1_x86_64.whl (1.5MB)\n",
            "\r\u001b[K     |▎                               | 10kB 15.0MB/s eta 0:00:01\r\u001b[K     |▌                               | 20kB 21.5MB/s eta 0:00:01\r\u001b[K     |▊                               | 30kB 18.3MB/s eta 0:00:01\r\u001b[K     |█                               | 40kB 15.8MB/s eta 0:00:01\r\u001b[K     |█▏                              | 51kB 8.7MB/s eta 0:00:01\r\u001b[K     |█▍                              | 61kB 7.4MB/s eta 0:00:01\r\u001b[K     |█▋                              | 71kB 8.2MB/s eta 0:00:01\r\u001b[K     |█▉                              | 81kB 9.1MB/s eta 0:00:01\r\u001b[K     |██                              | 92kB 9.7MB/s eta 0:00:01\r\u001b[K     |██▎                             | 102kB 8.2MB/s eta 0:00:01\r\u001b[K     |██▌                             | 112kB 8.2MB/s eta 0:00:01\r\u001b[K     |██▊                             | 122kB 8.2MB/s eta 0:00:01\r\u001b[K     |███                             | 133kB 8.2MB/s eta 0:00:01\r\u001b[K     |███▏                            | 143kB 8.2MB/s eta 0:00:01\r\u001b[K     |███▍                            | 153kB 8.2MB/s eta 0:00:01\r\u001b[K     |███▋                            | 163kB 8.2MB/s eta 0:00:01\r\u001b[K     |███▉                            | 174kB 8.2MB/s eta 0:00:01\r\u001b[K     |████                            | 184kB 8.2MB/s eta 0:00:01\r\u001b[K     |████▎                           | 194kB 8.2MB/s eta 0:00:01\r\u001b[K     |████▌                           | 204kB 8.2MB/s eta 0:00:01\r\u001b[K     |████▊                           | 215kB 8.2MB/s eta 0:00:01\r\u001b[K     |█████                           | 225kB 8.2MB/s eta 0:00:01\r\u001b[K     |█████▏                          | 235kB 8.2MB/s eta 0:00:01\r\u001b[K     |█████▍                          | 245kB 8.2MB/s eta 0:00:01\r\u001b[K     |█████▋                          | 256kB 8.2MB/s eta 0:00:01\r\u001b[K     |█████▉                          | 266kB 8.2MB/s eta 0:00:01\r\u001b[K     |██████                          | 276kB 8.2MB/s eta 0:00:01\r\u001b[K     |██████▎                         | 286kB 8.2MB/s eta 0:00:01\r\u001b[K     |██████▌                         | 296kB 8.2MB/s eta 0:00:01\r\u001b[K     |██████▊                         | 307kB 8.2MB/s eta 0:00:01\r\u001b[K     |███████                         | 317kB 8.2MB/s eta 0:00:01\r\u001b[K     |███████▏                        | 327kB 8.2MB/s eta 0:00:01\r\u001b[K     |███████▍                        | 337kB 8.2MB/s eta 0:00:01\r\u001b[K     |███████▋                        | 348kB 8.2MB/s eta 0:00:01\r\u001b[K     |███████▉                        | 358kB 8.2MB/s eta 0:00:01\r\u001b[K     |████████                        | 368kB 8.2MB/s eta 0:00:01\r\u001b[K     |████████▎                       | 378kB 8.2MB/s eta 0:00:01\r\u001b[K     |████████▌                       | 389kB 8.2MB/s eta 0:00:01\r\u001b[K     |████████▊                       | 399kB 8.2MB/s eta 0:00:01\r\u001b[K     |█████████                       | 409kB 8.2MB/s eta 0:00:01\r\u001b[K     |█████████▏                      | 419kB 8.2MB/s eta 0:00:01\r\u001b[K     |█████████▍                      | 430kB 8.2MB/s eta 0:00:01\r\u001b[K     |█████████▋                      | 440kB 8.2MB/s eta 0:00:01\r\u001b[K     |█████████▉                      | 450kB 8.2MB/s eta 0:00:01\r\u001b[K     |██████████                      | 460kB 8.2MB/s eta 0:00:01\r\u001b[K     |██████████▎                     | 471kB 8.2MB/s eta 0:00:01\r\u001b[K     |██████████▌                     | 481kB 8.2MB/s eta 0:00:01\r\u001b[K     |██████████▊                     | 491kB 8.2MB/s eta 0:00:01\r\u001b[K     |███████████                     | 501kB 8.2MB/s eta 0:00:01\r\u001b[K     |███████████▏                    | 512kB 8.2MB/s eta 0:00:01\r\u001b[K     |███████████▍                    | 522kB 8.2MB/s eta 0:00:01\r\u001b[K     |███████████▋                    | 532kB 8.2MB/s eta 0:00:01\r\u001b[K     |███████████▉                    | 542kB 8.2MB/s eta 0:00:01\r\u001b[K     |████████████                    | 552kB 8.2MB/s eta 0:00:01\r\u001b[K     |████████████▎                   | 563kB 8.2MB/s eta 0:00:01\r\u001b[K     |████████████▌                   | 573kB 8.2MB/s eta 0:00:01\r\u001b[K     |████████████▊                   | 583kB 8.2MB/s eta 0:00:01\r\u001b[K     |█████████████                   | 593kB 8.2MB/s eta 0:00:01\r\u001b[K     |█████████████▏                  | 604kB 8.2MB/s eta 0:00:01\r\u001b[K     |█████████████▍                  | 614kB 8.2MB/s eta 0:00:01\r\u001b[K     |█████████████▋                  | 624kB 8.2MB/s eta 0:00:01\r\u001b[K     |█████████████▉                  | 634kB 8.2MB/s eta 0:00:01\r\u001b[K     |██████████████                  | 645kB 8.2MB/s eta 0:00:01\r\u001b[K     |██████████████▎                 | 655kB 8.2MB/s eta 0:00:01\r\u001b[K     |██████████████▌                 | 665kB 8.2MB/s eta 0:00:01\r\u001b[K     |██████████████▊                 | 675kB 8.2MB/s eta 0:00:01\r\u001b[K     |███████████████                 | 686kB 8.2MB/s eta 0:00:01\r\u001b[K     |███████████████▏                | 696kB 8.2MB/s eta 0:00:01\r\u001b[K     |███████████████▍                | 706kB 8.2MB/s eta 0:00:01\r\u001b[K     |███████████████▋                | 716kB 8.2MB/s eta 0:00:01\r\u001b[K     |███████████████▉                | 727kB 8.2MB/s eta 0:00:01\r\u001b[K     |████████████████                | 737kB 8.2MB/s eta 0:00:01\r\u001b[K     |████████████████▎               | 747kB 8.2MB/s eta 0:00:01\r\u001b[K     |████████████████▌               | 757kB 8.2MB/s eta 0:00:01\r\u001b[K     |████████████████▊               | 768kB 8.2MB/s eta 0:00:01\r\u001b[K     |█████████████████               | 778kB 8.2MB/s eta 0:00:01\r\u001b[K     |█████████████████▏              | 788kB 8.2MB/s eta 0:00:01\r\u001b[K     |█████████████████▍              | 798kB 8.2MB/s eta 0:00:01\r\u001b[K     |█████████████████▋              | 808kB 8.2MB/s eta 0:00:01\r\u001b[K     |█████████████████▉              | 819kB 8.2MB/s eta 0:00:01\r\u001b[K     |██████████████████              | 829kB 8.2MB/s eta 0:00:01\r\u001b[K     |██████████████████▎             | 839kB 8.2MB/s eta 0:00:01\r\u001b[K     |██████████████████▌             | 849kB 8.2MB/s eta 0:00:01\r\u001b[K     |██████████████████▊             | 860kB 8.2MB/s eta 0:00:01\r\u001b[K     |███████████████████             | 870kB 8.2MB/s eta 0:00:01\r\u001b[K     |███████████████████▏            | 880kB 8.2MB/s eta 0:00:01\r\u001b[K     |███████████████████▍            | 890kB 8.2MB/s eta 0:00:01\r\u001b[K     |███████████████████▋            | 901kB 8.2MB/s eta 0:00:01\r\u001b[K     |███████████████████▉            | 911kB 8.2MB/s eta 0:00:01\r\u001b[K     |████████████████████            | 921kB 8.2MB/s eta 0:00:01\r\u001b[K     |████████████████████▎           | 931kB 8.2MB/s eta 0:00:01\r\u001b[K     |████████████████████▌           | 942kB 8.2MB/s eta 0:00:01\r\u001b[K     |████████████████████▊           | 952kB 8.2MB/s eta 0:00:01\r\u001b[K     |█████████████████████           | 962kB 8.2MB/s eta 0:00:01\r\u001b[K     |█████████████████████▏          | 972kB 8.2MB/s eta 0:00:01\r\u001b[K     |█████████████████████▍          | 983kB 8.2MB/s eta 0:00:01\r\u001b[K     |█████████████████████▋          | 993kB 8.2MB/s eta 0:00:01\r\u001b[K     |█████████████████████▉          | 1.0MB 8.2MB/s eta 0:00:01\r\u001b[K     |██████████████████████          | 1.0MB 8.2MB/s eta 0:00:01\r\u001b[K     |██████████████████████▎         | 1.0MB 8.2MB/s eta 0:00:01\r\u001b[K     |██████████████████████▌         | 1.0MB 8.2MB/s eta 0:00:01\r\u001b[K     |██████████████████████▊         | 1.0MB 8.2MB/s eta 0:00:01\r\u001b[K     |███████████████████████         | 1.1MB 8.2MB/s eta 0:00:01\r\u001b[K     |███████████████████████▏        | 1.1MB 8.2MB/s eta 0:00:01\r\u001b[K     |███████████████████████▍        | 1.1MB 8.2MB/s eta 0:00:01\r\u001b[K     |███████████████████████▋        | 1.1MB 8.2MB/s eta 0:00:01\r\u001b[K     |███████████████████████▉        | 1.1MB 8.2MB/s eta 0:00:01\r\u001b[K     |████████████████████████        | 1.1MB 8.2MB/s eta 0:00:01\r\u001b[K     |████████████████████████▎       | 1.1MB 8.2MB/s eta 0:00:01\r\u001b[K     |████████████████████████▌       | 1.1MB 8.2MB/s eta 0:00:01\r\u001b[K     |████████████████████████▊       | 1.1MB 8.2MB/s eta 0:00:01\r\u001b[K     |█████████████████████████       | 1.1MB 8.2MB/s eta 0:00:01\r\u001b[K     |█████████████████████████▏      | 1.2MB 8.2MB/s eta 0:00:01\r\u001b[K     |█████████████████████████▍      | 1.2MB 8.2MB/s eta 0:00:01\r\u001b[K     |█████████████████████████▋      | 1.2MB 8.2MB/s eta 0:00:01\r\u001b[K     |█████████████████████████▉      | 1.2MB 8.2MB/s eta 0:00:01\r\u001b[K     |██████████████████████████      | 1.2MB 8.2MB/s eta 0:00:01\r\u001b[K     |██████████████████████████▎     | 1.2MB 8.2MB/s eta 0:00:01\r\u001b[K     |██████████████████████████▌     | 1.2MB 8.2MB/s eta 0:00:01\r\u001b[K     |██████████████████████████▊     | 1.2MB 8.2MB/s eta 0:00:01\r\u001b[K     |███████████████████████████     | 1.2MB 8.2MB/s eta 0:00:01\r\u001b[K     |███████████████████████████▏    | 1.2MB 8.2MB/s eta 0:00:01\r\u001b[K     |███████████████████████████▍    | 1.3MB 8.2MB/s eta 0:00:01\r\u001b[K     |███████████████████████████▋    | 1.3MB 8.2MB/s eta 0:00:01\r\u001b[K     |███████████████████████████▉    | 1.3MB 8.2MB/s eta 0:00:01\r\u001b[K     |████████████████████████████    | 1.3MB 8.2MB/s eta 0:00:01\r\u001b[K     |████████████████████████████▎   | 1.3MB 8.2MB/s eta 0:00:01\r\u001b[K     |████████████████████████████▌   | 1.3MB 8.2MB/s eta 0:00:01\r\u001b[K     |████████████████████████████▊   | 1.3MB 8.2MB/s eta 0:00:01\r\u001b[K     |█████████████████████████████   | 1.3MB 8.2MB/s eta 0:00:01\r\u001b[K     |█████████████████████████████▏  | 1.3MB 8.2MB/s eta 0:00:01\r\u001b[K     |█████████████████████████████▍  | 1.4MB 8.2MB/s eta 0:00:01\r\u001b[K     |█████████████████████████████▋  | 1.4MB 8.2MB/s eta 0:00:01\r\u001b[K     |█████████████████████████████▉  | 1.4MB 8.2MB/s eta 0:00:01\r\u001b[K     |██████████████████████████████  | 1.4MB 8.2MB/s eta 0:00:01\r\u001b[K     |██████████████████████████████▎ | 1.4MB 8.2MB/s eta 0:00:01\r\u001b[K     |██████████████████████████████▌ | 1.4MB 8.2MB/s eta 0:00:01\r\u001b[K     |██████████████████████████████▊ | 1.4MB 8.2MB/s eta 0:00:01\r\u001b[K     |███████████████████████████████ | 1.4MB 8.2MB/s eta 0:00:01\r\u001b[K     |███████████████████████████████▏| 1.4MB 8.2MB/s eta 0:00:01\r\u001b[K     |███████████████████████████████▍| 1.4MB 8.2MB/s eta 0:00:01\r\u001b[K     |███████████████████████████████▋| 1.5MB 8.2MB/s eta 0:00:01\r\u001b[K     |███████████████████████████████▉| 1.5MB 8.2MB/s eta 0:00:01\r\u001b[K     |████████████████████████████████| 1.5MB 8.2MB/s \n",
            "\u001b[?25hRequirement already satisfied: Cython>=0.29.21 in /usr/local/lib/python3.7/dist-packages (from linearmodels) (0.29.23)\n",
            "Requirement already satisfied: numpy>=1.16 in /usr/local/lib/python3.7/dist-packages (from linearmodels) (1.19.5)\n",
            "Requirement already satisfied: patsy in /usr/local/lib/python3.7/dist-packages (from linearmodels) (0.5.1)\n",
            "Collecting mypy-extensions>=0.4\n",
            "  Downloading https://files.pythonhosted.org/packages/5c/eb/975c7c080f3223a5cdaff09612f3a5221e4ba534f7039db34c35d95fa6a5/mypy_extensions-0.4.3-py2.py3-none-any.whl\n",
            "Collecting statsmodels>=0.11\n",
            "\u001b[?25l  Downloading https://files.pythonhosted.org/packages/da/69/8eef30a6237c54f3c0b524140e2975f4b1eea3489b45eb3339574fc8acee/statsmodels-0.12.2-cp37-cp37m-manylinux1_x86_64.whl (9.5MB)\n",
            "\u001b[K     |████████████████████████████████| 9.5MB 36.1MB/s \n",
            "\u001b[?25hCollecting property-cached>=1.6.3\n",
            "  Downloading https://files.pythonhosted.org/packages/5c/6c/94d8e520b20a2502e508e1c558f338061cf409cbee78fd6a3a5c6ae812bd/property_cached-1.6.4-py2.py3-none-any.whl\n",
            "Requirement already satisfied: scipy>=1.2 in /usr/local/lib/python3.7/dist-packages (from linearmodels) (1.4.1)\n",
            "Collecting pyhdfe>=0.1\n",
            "  Downloading https://files.pythonhosted.org/packages/81/38/a53257196401029dd34c83c0528de22032d7b602e8bbcaa6d560040d42c2/pyhdfe-0.1.0-py3-none-any.whl\n",
            "Requirement already satisfied: pandas>=0.24 in /usr/local/lib/python3.7/dist-packages (from linearmodels) (1.1.5)\n",
            "Requirement already satisfied: six in /usr/local/lib/python3.7/dist-packages (from patsy->linearmodels) (1.15.0)\n",
            "Requirement already satisfied: pytz>=2017.2 in /usr/local/lib/python3.7/dist-packages (from pandas>=0.24->linearmodels) (2018.9)\n",
            "Requirement already satisfied: python-dateutil>=2.7.3 in /usr/local/lib/python3.7/dist-packages (from pandas>=0.24->linearmodels) (2.8.1)\n",
            "Installing collected packages: mypy-extensions, statsmodels, property-cached, pyhdfe, linearmodels\n",
            "  Found existing installation: statsmodels 0.10.2\n",
            "    Uninstalling statsmodels-0.10.2:\n",
            "      Successfully uninstalled statsmodels-0.10.2\n",
            "Successfully installed linearmodels-4.24 mypy-extensions-0.4.3 property-cached-1.6.4 pyhdfe-0.1.0 statsmodels-0.12.2\n"
          ],
          "name": "stdout"
        }
      ]
    },
    {
      "cell_type": "code",
      "metadata": {
        "id": "zPkiZ_PG29pY"
      },
      "source": [
        "from linearmodels import IV2SLS"
      ],
      "execution_count": null,
      "outputs": []
    },
    {
      "cell_type": "markdown",
      "metadata": {
        "id": "XxYAEg6k5Z4t"
      },
      "source": [
        "### run an OLS"
      ]
    },
    {
      "cell_type": "code",
      "metadata": {
        "id": "VpWEbEA56Lqu"
      },
      "source": [
        "df['const'] = 1"
      ],
      "execution_count": null,
      "outputs": []
    },
    {
      "cell_type": "code",
      "metadata": {
        "colab": {
          "base_uri": "https://localhost:8080/"
        },
        "id": "bwWWAz_v3pxe",
        "outputId": "61ca6abe-32f5-457f-a15e-0e472dc70305"
      },
      "source": [
        "ivolsmod = IV2SLS(df.TxTfrValAdjUSD, df[[\"const\",\"FlowOutExUSD\",\"SplyCur\",\"AdrBalCnt\"]], None, None)\n",
        "res_ols = ivolsmod.fit()\n",
        "print(res_ols)"
      ],
      "execution_count": null,
      "outputs": [
        {
          "output_type": "stream",
          "text": [
            "                            OLS Estimation Summary                            \n",
            "==============================================================================\n",
            "Dep. Variable:         TxTfrValAdjUSD   R-squared:                      0.6481\n",
            "Estimator:                        OLS   Adj. R-squared:                 0.6473\n",
            "No. Observations:                1425   F-statistic:                    639.16\n",
            "Date:                Sun, Jun 27 2021   P-value (F-stat)                0.0000\n",
            "Time:                        15:49:19   Distribution:                  chi2(3)\n",
            "Cov. Estimator:                robust                                         \n",
            "                                                                              \n",
            "                              Parameter Estimates                               \n",
            "================================================================================\n",
            "              Parameter  Std. Err.     T-stat    P-value    Lower CI    Upper CI\n",
            "--------------------------------------------------------------------------------\n",
            "const         4.405e+10   5.87e+09     7.5032     0.0000   3.254e+10   5.555e+10\n",
            "FlowOutExUSD     8.5731     0.6533     13.123     0.0000      7.2927      9.8536\n",
            "SplyCur         -479.03     62.249    -7.6954     0.0000     -601.04     -357.03\n",
            "AdrBalCnt        231.76     27.569     8.4066     0.0000      177.73      285.79\n",
            "================================================================================\n"
          ],
          "name": "stdout"
        }
      ]
    },
    {
      "cell_type": "markdown",
      "metadata": {
        "id": "rgrpPK_w5fmx"
      },
      "source": [
        "### run an IV2SLS"
      ]
    },
    {
      "cell_type": "code",
      "metadata": {
        "colab": {
          "base_uri": "https://localhost:8080/"
        },
        "id": "AlJWi-_y5RUB",
        "outputId": "f5a78d01-f8c6-4730-9a32-a4ccfff614bd"
      },
      "source": [
        "ivmod = IV2SLS(df.TxTfrValAdjUSD, df[[\"const\",\"AdrBalCnt\"]], df[\"FlowOutExUSD\"], df[\"SplyCur\"])\n",
        "res_2sls = ivmod.fit()\n",
        "print(res_2sls.summary)"
      ],
      "execution_count": null,
      "outputs": [
        {
          "output_type": "stream",
          "text": [
            "                          IV-2SLS Estimation Summary                          \n",
            "==============================================================================\n",
            "Dep. Variable:         TxTfrValAdjUSD   R-squared:                      0.6258\n",
            "Estimator:                    IV-2SLS   Adj. R-squared:                 0.6253\n",
            "No. Observations:                1425   F-statistic:                    446.91\n",
            "Date:                Sun, Jun 27 2021   P-value (F-stat)                0.0000\n",
            "Time:                        15:49:19   Distribution:                  chi2(2)\n",
            "Cov. Estimator:                robust                                         \n",
            "                                                                              \n",
            "                              Parameter Estimates                               \n",
            "================================================================================\n",
            "              Parameter  Std. Err.     T-stat    P-value    Lower CI    Upper CI\n",
            "--------------------------------------------------------------------------------\n",
            "const        -1.156e+09  1.581e+08    -7.3081     0.0000  -1.466e+09  -8.457e+08\n",
            "AdrBalCnt        21.195     3.3090     6.4051     0.0000      14.709      27.680\n",
            "FlowOutExUSD     11.172     0.5968     18.721     0.0000      10.002      12.342\n",
            "================================================================================\n",
            "\n",
            "Endogenous: FlowOutExUSD\n",
            "Instruments: SplyCur\n",
            "Robust Covariance (Heteroskedastic)\n",
            "Debiased: False\n"
          ],
          "name": "stdout"
        }
      ]
    },
    {
      "cell_type": "markdown",
      "metadata": {
        "id": "6FXJ7F2L6hjU"
      },
      "source": [
        "### comparison of the results"
      ]
    },
    {
      "cell_type": "code",
      "metadata": {
        "id": "ko-JHZ9T52eI"
      },
      "source": [
        "from collections import OrderedDict\n",
        "from linearmodels.iv.results import compare"
      ],
      "execution_count": null,
      "outputs": []
    },
    {
      "cell_type": "code",
      "metadata": {
        "colab": {
          "base_uri": "https://localhost:8080/"
        },
        "id": "2uCswn3g6rt5",
        "outputId": "e668c197-1cc8-42b8-c5c8-56771306f8e0"
      },
      "source": [
        "res = OrderedDict()\n",
        "res['OLS'] = res_ols\n",
        "res['2SLS'] = res_2sls\n",
        "print(compare(res))"
      ],
      "execution_count": null,
      "outputs": [
        {
          "output_type": "stream",
          "text": [
            "                     Model Comparison                     \n",
            "==========================================================\n",
            "                                    OLS               2SLS\n",
            "----------------------------------------------------------\n",
            "Dep. Variable            TxTfrValAdjUSD     TxTfrValAdjUSD\n",
            "Estimator                           OLS            IV-2SLS\n",
            "No. Observations                   1425               1425\n",
            "Cov. Est.                        robust             robust\n",
            "R-squared                        0.6481             0.6258\n",
            "Adj. R-squared                   0.6473             0.6253\n",
            "F-statistic                      639.16             446.91\n",
            "P-value (F-stat)                 0.0000             0.0000\n",
            "==================     ================   ================\n",
            "const                         4.405e+10         -1.156e+09\n",
            "                               (7.5032)          (-7.3081)\n",
            "FlowOutExUSD                     8.5731             11.172\n",
            "                               (13.123)           (18.721)\n",
            "SplyCur                         -479.03                   \n",
            "                              (-7.6954)                   \n",
            "AdrBalCnt                        231.76             21.195\n",
            "                               (8.4066)           (6.4051)\n",
            "==================== ================== ==================\n",
            "Instruments                                        SplyCur\n",
            "----------------------------------------------------------\n",
            "\n",
            "T-stats reported in parentheses\n"
          ],
          "name": "stdout"
        }
      ]
    },
    {
      "cell_type": "markdown",
      "metadata": {
        "id": "ucuxJA-e62Eo"
      },
      "source": [
        "### Testing endogeneity"
      ]
    },
    {
      "cell_type": "markdown",
      "metadata": {
        "id": "hOrvX00o6-sI"
      },
      "source": [
        "The Durbin test is a classic of endogeneity which compares OLS estimates with 2SLS and exploits the fact that OLS estimates will be relatively efficient. Durbin’s test is not robust to heteroskedasticity."
      ]
    },
    {
      "cell_type": "code",
      "metadata": {
        "colab": {
          "base_uri": "https://localhost:8080/"
        },
        "id": "ET-0LIWQ6vuR",
        "outputId": "b7bc63cb-2492-43e5-bb9d-5d14d39275b7"
      },
      "source": [
        "res_2sls.durbin()"
      ],
      "execution_count": null,
      "outputs": [
        {
          "output_type": "execute_result",
          "data": {
            "text/plain": [
              "Durbin test of exogeneity\n",
              "H0: All endogenous variables are exogenous\n",
              "Statistic: 30.6350\n",
              "P-value: 0.0000\n",
              "Distributed: chi2(1)\n",
              "WaldTestStatistic, id: 0x7f7ef2b5a350"
            ]
          },
          "metadata": {
            "tags": []
          },
          "execution_count": 17
        }
      ]
    },
    {
      "cell_type": "markdown",
      "metadata": {
        "id": "oOc2ojRD7R7p"
      },
      "source": [
        "Wooldridge’s regression-based test of exogeneity is robust to heteroskedasticity since it inherits the covariance estimator from the model. Here there is little difference."
      ]
    },
    {
      "cell_type": "code",
      "metadata": {
        "colab": {
          "base_uri": "https://localhost:8080/"
        },
        "id": "xpOJjC6a7Bk7",
        "outputId": "db42683e-70d5-42de-d339-f504cb723ea8"
      },
      "source": [
        "res_2sls.wooldridge_regression"
      ],
      "execution_count": null,
      "outputs": [
        {
          "output_type": "execute_result",
          "data": {
            "text/plain": [
              "Wooldridge's regression test of exogeneity\n",
              "H0: Endogenous variables are exogenous\n",
              "Statistic: 59.2195\n",
              "P-value: 0.0000\n",
              "Distributed: chi2(1)\n",
              "WaldTestStatistic, id: 0x7f7ee981ddd0"
            ]
          },
          "metadata": {
            "tags": []
          },
          "execution_count": 18
        }
      ]
    },
    {
      "cell_type": "markdown",
      "metadata": {
        "id": "51xkG50O7p5M"
      },
      "source": [
        "### print first stage regression"
      ]
    },
    {
      "cell_type": "code",
      "metadata": {
        "colab": {
          "base_uri": "https://localhost:8080/"
        },
        "id": "bn7PCPjl7Nwd",
        "outputId": "98973b50-18b1-4e01-db4b-b80be9d03a92"
      },
      "source": [
        "print(res_2sls.first_stage)"
      ],
      "execution_count": null,
      "outputs": [
        {
          "output_type": "stream",
          "text": [
            "     First Stage Estimation Results    \n",
            "=======================================\n",
            "                           FlowOutExUSD\n",
            "---------------------------------------\n",
            "R-squared                        0.4579\n",
            "Partial R-squared                0.3467\n",
            "Shea's R-squared                 0.3467\n",
            "Partial F-statistic              405.71\n",
            "P-value (Partial F-stat)         0.0000\n",
            "Partial F-stat Distn            chi2(1)\n",
            "==========================  ===========\n",
            "const                         1.739e+10\n",
            "                               (20.342)\n",
            "AdrBalCnt                        81.016\n",
            "                               (19.687)\n",
            "SplyCur                         -184.31\n",
            "                              (-20.142)\n",
            "---------------------------------------\n",
            "\n",
            "T-stats reported in parentheses\n",
            "T-stats use same covariance type as original model\n"
          ],
          "name": "stdout"
        }
      ]
    },
    {
      "cell_type": "markdown",
      "metadata": {
        "id": "-vP6TFhE7zVS"
      },
      "source": [
        "# Using the Statsmodel Package\n",
        "\n",
        "Not recommended"
      ]
    },
    {
      "cell_type": "markdown",
      "metadata": {
        "id": "RJzb5lIN74LQ"
      },
      "source": [
        "https://www.statsmodels.org/dev/generated/statsmodels.sandbox.regression.gmm.IV2SLS.html"
      ]
    }
  ]
}